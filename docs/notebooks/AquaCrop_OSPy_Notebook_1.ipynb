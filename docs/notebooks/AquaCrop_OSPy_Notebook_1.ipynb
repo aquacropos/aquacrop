{
 "cells": [
  {
   "cell_type": "markdown",
   "metadata": {
    "id": "F46q9WuSNxCZ"
   },
   "source": [
    "# AquaCrop-OSPy: Bridging the gap between research and practice in crop-water modelling\n"
   ]
  },
  {
   "cell_type": "markdown",
   "metadata": {},
   "source": [
    "<a href=\"https://colab.research.google.com/github/thomasdkelly/aquacrop/blob/master/tutorials/AquaCrop_OSPy_Notebook_1.ipynb\" target=\"_parent\"><img src=\"https://colab.research.google.com/assets/colab-badge.svg\" alt=\"Open in Colab\"/></a>\n"
   ]
  },
  {
   "cell_type": "markdown",
   "metadata": {
    "id": "qrRbaHsji3A-"
   },
   "source": [
    "This series of notebooks provides users with an introduction to AquaCrop-OSPy, an open-source Python implementation of the U.N. Food and Agriculture Organization (FAO) AquaCrop model. AquaCrop-OSPy is accompanied by a series of Jupyter notebooks, which guide users interactively through a range of common applications of the model. Only basic Python experience is required, and the notebooks can easily be extended and adapted by users for their own applications and needs."
   ]
  },
  {
   "cell_type": "markdown",
   "metadata": {
    "id": "YDm931IGNxCb"
   },
   "source": [
    "\n",
    "This notebook series consists of four parts:\n",
    "\n",
    "1.   <a href=https://colab.research.google.com/github/thomasdkelly/aquacrop/blob/master/tutorials/AquaCrop_OSPy_Notebook_1.ipynb>Running an AquaCrop-OSPy model</a>\n",
    "2.   <a href=https://colab.research.google.com/github/thomasdkelly/aquacrop/blob/master/tutorials/AquaCrop_OSPy_Notebook_2.ipynb>Estimation of irrigation water demands</a>\n",
    "3.   <a href=https://colab.research.google.com/github/thomasdkelly/aquacrop/blob/master/tutorials/AquaCrop_OSPy_Notebook_3.ipynb>Optimisation of irrigation management strategies</a>\n",
    "4.  <a href=https://colab.research.google.com/github/thomasdkelly/aquacrop/blob/master/tutorials/AquaCrop_OSPy_Notebook_4.ipynb>Projection of climate change impacts</a>\n"
   ]
  },
  {
   "cell_type": "markdown",
   "metadata": {
    "id": "_b5MjblTNxCf"
   },
   "source": [
    "# Notebook 1: Getting started: Running your first simulation with AquaCrop-OSPy\n",
    "\n"
   ]
  },
  {
   "cell_type": "markdown",
   "metadata": {
    "id": "wOL7nNR7khRC"
   },
   "source": [
    "In this notebook, you will learn interactively how to setup and run you first AquaCrop-OSPy simulation. We begin by showing how to define key model input parameters and variables, and then show how to execute a model simulation and interpret output files.\n",
    "\n",
    "The first of these notebooks outlines how to setup and run single and multi-season simulations for a selected cropping system. Examples are provided about how to setup and define relevant crop, soil, weather and management parameter values and inputs, with more advanced customization guides given in the Appendices A-D."
   ]
  },
  {
   "cell_type": "markdown",
   "metadata": {
    "id": "ZbONAGxfmGXD"
   },
   "source": [
    "## Notes on Google Colab\n",
    "\n",
    "If you are unfamiliar with Jupyter Notebooks or Google Colab, <a href=\"https://colab.research.google.com/notebooks/intro.ipynb\">here</a> is an introductory notebook to get you started. In short, these are computable documents that let you combine text blocks such as these (including html, LaTeX, etc.) with code blocks that you can write, edit and execute. To run the code in each cell either click the run button in the cell's top left corner or hit SHIFT-ENTER when the cell is selected. You can also navigate through the document using the table of contents on the left hand side.\n",
    "\n",
    "We recommend you save a copy of this notebook to your dive (File->Save a copy to drive). Then any changes you make to this notebook will be saved and you can open it it again at any time and carry on. "
   ]
  },
  {
   "cell_type": "markdown",
   "metadata": {
    "id": "-YNld0zqPGqr"
   },
   "source": [
    "<a id='Imports'><a/>\n",
    "\n",
    "## Imports\n",
    "\n"
   ]
  },
  {
   "cell_type": "markdown",
   "metadata": {
    "id": "-cxsh3MQoAmD"
   },
   "source": [
    "In order to use AquaCrop-OSPy inside this notebook we first need to install and import it. Installing aquacrop is as simple as running `pip install aquacrop` or `!pip install aquacrop==VERSION` to install a specific version. In cell below we also use the `output.clear` function to keep everything tidy. "
   ]
  },
  {
   "cell_type": "code",
   "execution_count": 1,
   "metadata": {
    "id": "LWQ58wjpobn0"
   },
   "outputs": [],
   "source": [
    "# !pip install aquacrop\n",
    "\n",
    "# from google.colab import output\n",
    "# output.clear()"
   ]
  },
  {
   "cell_type": "markdown",
   "metadata": {},
   "source": [
    "In case the installation through pip fails for any reason, you can install direct from GitHub using the cell below."
   ]
  },
  {
   "cell_type": "code",
   "execution_count": null,
   "metadata": {},
   "outputs": [],
   "source": [
    "# !pip install git+https://github.com/aquacropos/aquacrop\n",
    "\n",
    "# from google.colab import output\n",
    "# output.clear()"
   ]
  },
  {
   "cell_type": "markdown",
   "metadata": {},
   "source": [
    "If for any reason you would rather not compile the aquacrop modules ahead-of-time, you can run the following cell to run the notebook in pure python (N.B. it will run slower)."
   ]
  },
  {
   "cell_type": "code",
   "execution_count": null,
   "metadata": {},
   "outputs": [],
   "source": [
    "# import os\n",
    "# os.environ['DEVELOPMENT'] = 'True'"
   ]
  },
  {
   "cell_type": "markdown",
   "metadata": {
    "id": "1zGeIg5wpC7K"
   },
   "source": [
    "Now that `aquacrop` is installed we need to import the various components into the notebook. All these functions do not have to be imported at once as we have done in the cell below but it will help keep things clearer throughout this notebook."
   ]
  },
  {
   "cell_type": "code",
   "execution_count": 2,
   "metadata": {
    "id": "7Z4TGBQzYXQi"
   },
   "outputs": [],
   "source": [
    "from aquacrop import AquaCropModel, Soil, Crop, InitialWaterContent, FieldMngt, GroundWater\n",
    "from aquacrop.utils import prepare_weather, get_filepath\n",
    "\n",
    "import pandas as pd\n",
    "import matplotlib.pyplot as plt\n",
    "import seaborn as sns"
   ]
  },
  {
   "cell_type": "markdown",
   "metadata": {
    "id": "6ZHNXbliriKC"
   },
   "source": [
    "# Selecting Model Components"
   ]
  },
  {
   "cell_type": "markdown",
   "metadata": {
    "id": "Zd0f66PvrvJs"
   },
   "source": [
    "Running an AquaCrop-OSPy model requires the selection of 5 components:\n",
    "\n",
    "1.   Daily climate measurements\n",
    "3.   Soil selection\n",
    "4.   Crop selection\n",
    "5.   Initial water content\n",
    "1.   Simulation start and end dates\n",
    "\n",
    "We will go through the selection of these components in turn below."
   ]
  },
  {
   "cell_type": "markdown",
   "metadata": {
    "id": "d7pNB13z2TaJ"
   },
   "source": [
    "## Climate Measurements"
   ]
  },
  {
   "cell_type": "markdown",
   "metadata": {
    "id": "Nb1Q_yhPtXbZ"
   },
   "source": [
    "AquaCrop-OSPy requires weather data to be specified over the cropping period being simulated. This includes a daily time series of minimum and maximum temperatures [C], precipitation [mm], and reference crop evapotranspiration [mm].\n",
    "\n",
    "To import these data into the model, a .txt file containing relevant weather data must be created by the user in the following space delimited format.\n",
    "\n",
    "![picture](https://drive.google.com/uc?export=view&id=1WG0gN4fCYgQs-EQXhXUvNrPktFJOZut9)\n",
    "\n",
    "If you are running this notebook locally you will need to specify the file path to the weather data file on your computer. If you are running the notebook via Google Colab you can upload the file through the tab on the left so that it is available in the current directory.\n",
    "\n",
    "![picture](https://drive.google.com/uc?export=view&id=1xTg4b1W-Nvi8kuK3ytVybTZpaWSflnNE)\n",
    "\n",
    "To load the weather data into the model, use the `prepare_weather` function, passing in the filepath of the .txt file. This `prepare_weather` function will create a pandas DataFrame in Python storing the imported weather data in the correct format for subsequent simulations.\n",
    "\n"
   ]
  },
  {
   "cell_type": "code",
   "execution_count": 3,
   "metadata": {
    "colab": {
     "base_uri": "https://localhost:8080/",
     "height": 448
    },
    "id": "wV2rbJzUqc_1",
    "outputId": "1ee657f3-6828-4396-c3f7-556a20afb2ad"
   },
   "outputs": [],
   "source": [
    "# specify filepath to weather file (either locally or imported to colab)\n",
    "# filepath= 'YOUR_WEATHER_FILE.TXT'\n",
    "\n",
    "# weather_data = prepare_weather(filepath)\n",
    "# weather_data"
   ]
  },
  {
   "cell_type": "markdown",
   "metadata": {
    "id": "pr6GZHHSwAQb"
   },
   "source": [
    "AquaCrop-OSPy also contains a number of in-built example weather files. These can be accessed using the `get_filepath` function as shown below. Once run then use the `prep_weather` function as above to convert the data to a pandas DataFrame ready for use. A full list of the built-in weather files can be found in Appendix A."
   ]
  },
  {
   "cell_type": "code",
   "execution_count": 4,
   "metadata": {
    "colab": {
     "base_uri": "https://localhost:8080/",
     "height": 419
    },
    "id": "uNQGElSKwPE0",
    "outputId": "0ecad12e-7c76-43b5-b309-131fd758b19c"
   },
   "outputs": [
    {
     "data": {
      "text/html": [
       "<div>\n",
       "<style scoped>\n",
       "    .dataframe tbody tr th:only-of-type {\n",
       "        vertical-align: middle;\n",
       "    }\n",
       "\n",
       "    .dataframe tbody tr th {\n",
       "        vertical-align: top;\n",
       "    }\n",
       "\n",
       "    .dataframe thead th {\n",
       "        text-align: right;\n",
       "    }\n",
       "</style>\n",
       "<table border=\"1\" class=\"dataframe\">\n",
       "  <thead>\n",
       "    <tr style=\"text-align: right;\">\n",
       "      <th></th>\n",
       "      <th>MinTemp</th>\n",
       "      <th>MaxTemp</th>\n",
       "      <th>Precipitation</th>\n",
       "      <th>ReferenceET</th>\n",
       "      <th>Date</th>\n",
       "    </tr>\n",
       "  </thead>\n",
       "  <tbody>\n",
       "    <tr>\n",
       "      <th>0</th>\n",
       "      <td>15.0</td>\n",
       "      <td>20.0</td>\n",
       "      <td>0.0</td>\n",
       "      <td>1.5</td>\n",
       "      <td>1979-01-01</td>\n",
       "    </tr>\n",
       "    <tr>\n",
       "      <th>1</th>\n",
       "      <td>8.0</td>\n",
       "      <td>15.0</td>\n",
       "      <td>0.0</td>\n",
       "      <td>1.3</td>\n",
       "      <td>1979-01-02</td>\n",
       "    </tr>\n",
       "    <tr>\n",
       "      <th>2</th>\n",
       "      <td>3.0</td>\n",
       "      <td>12.0</td>\n",
       "      <td>0.0</td>\n",
       "      <td>1.2</td>\n",
       "      <td>1979-01-03</td>\n",
       "    </tr>\n",
       "    <tr>\n",
       "      <th>3</th>\n",
       "      <td>5.0</td>\n",
       "      <td>19.0</td>\n",
       "      <td>0.0</td>\n",
       "      <td>1.8</td>\n",
       "      <td>1979-01-04</td>\n",
       "    </tr>\n",
       "    <tr>\n",
       "      <th>4</th>\n",
       "      <td>10.0</td>\n",
       "      <td>17.0</td>\n",
       "      <td>0.0</td>\n",
       "      <td>1.4</td>\n",
       "      <td>1979-01-05</td>\n",
       "    </tr>\n",
       "    <tr>\n",
       "      <th>...</th>\n",
       "      <td>...</td>\n",
       "      <td>...</td>\n",
       "      <td>...</td>\n",
       "      <td>...</td>\n",
       "      <td>...</td>\n",
       "    </tr>\n",
       "    <tr>\n",
       "      <th>8547</th>\n",
       "      <td>17.3</td>\n",
       "      <td>32.5</td>\n",
       "      <td>0.0</td>\n",
       "      <td>7.0</td>\n",
       "      <td>2002-05-27</td>\n",
       "    </tr>\n",
       "    <tr>\n",
       "      <th>8548</th>\n",
       "      <td>16.8</td>\n",
       "      <td>24.4</td>\n",
       "      <td>0.0</td>\n",
       "      <td>4.9</td>\n",
       "      <td>2002-05-28</td>\n",
       "    </tr>\n",
       "    <tr>\n",
       "      <th>8549</th>\n",
       "      <td>15.0</td>\n",
       "      <td>27.8</td>\n",
       "      <td>0.0</td>\n",
       "      <td>6.0</td>\n",
       "      <td>2002-05-29</td>\n",
       "    </tr>\n",
       "    <tr>\n",
       "      <th>8550</th>\n",
       "      <td>14.1</td>\n",
       "      <td>30.0</td>\n",
       "      <td>0.0</td>\n",
       "      <td>6.4</td>\n",
       "      <td>2002-05-30</td>\n",
       "    </tr>\n",
       "    <tr>\n",
       "      <th>8551</th>\n",
       "      <td>17.0</td>\n",
       "      <td>29.2</td>\n",
       "      <td>0.0</td>\n",
       "      <td>5.9</td>\n",
       "      <td>2002-05-31</td>\n",
       "    </tr>\n",
       "  </tbody>\n",
       "</table>\n",
       "<p>8552 rows × 5 columns</p>\n",
       "</div>"
      ],
      "text/plain": [
       "      MinTemp  MaxTemp  Precipitation  ReferenceET       Date\n",
       "0        15.0     20.0            0.0          1.5 1979-01-01\n",
       "1         8.0     15.0            0.0          1.3 1979-01-02\n",
       "2         3.0     12.0            0.0          1.2 1979-01-03\n",
       "3         5.0     19.0            0.0          1.8 1979-01-04\n",
       "4        10.0     17.0            0.0          1.4 1979-01-05\n",
       "...       ...      ...            ...          ...        ...\n",
       "8547     17.3     32.5            0.0          7.0 2002-05-27\n",
       "8548     16.8     24.4            0.0          4.9 2002-05-28\n",
       "8549     15.0     27.8            0.0          6.0 2002-05-29\n",
       "8550     14.1     30.0            0.0          6.4 2002-05-30\n",
       "8551     17.0     29.2            0.0          5.9 2002-05-31\n",
       "\n",
       "[8552 rows x 5 columns]"
      ]
     },
     "execution_count": 4,
     "metadata": {},
     "output_type": "execute_result"
    }
   ],
   "source": [
    "# locate built in weather file\n",
    "filepath=get_filepath('tunis_climate.txt')\n",
    "\n",
    "weather_data = prepare_weather(filepath)\n",
    "weather_data"
   ]
  },
  {
   "cell_type": "markdown",
   "metadata": {
    "id": "nfZ1LMjZmUQ_"
   },
   "source": [
    "## Soil"
   ]
  },
  {
   "cell_type": "markdown",
   "metadata": {
    "id": "pnimVgNRtNyT"
   },
   "source": [
    "\n",
    "\n",
    "Selecting a soil type for an AquaCrop-OSPy simulation is done via the `Soil` object. This object contains all the compositional and hydraulic properties needed for the simulation. The simplest way to select a `Soil` is to use one of the built-in soil types taken from AquaCrop defaults. A visual representation of these defaults is shown below.\n",
    "\n",
    "![picture](https://drive.google.com/uc?export=view&id=11CDRTYgYrYxsQyEwih_0jDAozIu_l-ak)\n",
    "\n",
    "As an example, to select a 'sandy loam' soil, run the cell below. Appendix B details how a user can edit any of these built-in soil types or create their own custom soil profile. "
   ]
  },
  {
   "cell_type": "code",
   "execution_count": 5,
   "metadata": {
    "id": "l2itZBlsPXf6"
   },
   "outputs": [],
   "source": [
    "sandy_loam = Soil(soil_type='SandyLoam')"
   ]
  },
  {
   "cell_type": "markdown",
   "metadata": {
    "id": "PedFdBWt2gZ4"
   },
   "source": [
    "## Crop"
   ]
  },
  {
   "cell_type": "markdown",
   "metadata": {
    "id": "EDTpNTNyXEvw"
   },
   "source": [
    "The crop type used in the simulation is selected in a similar way to soil via a `Crop`. To select a `Crop` you need to specify the crop type and planting date. Any of the built-in crop types (currently Maize, Wheat, Rice, Potato) can be selected by running the cell below. Appendix C details how a user can edit any of the built-in crop parameters or create custom crops. "
   ]
  },
  {
   "cell_type": "code",
   "execution_count": 6,
   "metadata": {
    "id": "ZqCvx9epJjwr"
   },
   "outputs": [],
   "source": [
    "wheat = Crop('Wheat', planting_date='10/01')"
   ]
  },
  {
   "cell_type": "markdown",
   "metadata": {
    "id": "s19ZMzMc4k4y"
   },
   "source": [
    "## Initial water content\n",
    "\n",
    "Specifying the intial soil-water content at the begining of the simulation is done via the `InitialWaterContent`. When creating an `InitialWaterContent`, it needs a list of locations and soil water contents. This table below details all the input paramaters for the `InitialWaterContent`. For a more detailed example, see the third section of Appendix D: Initial water content.\n",
    "\n",
    "Variable Name | Type | Description | Default\n",
    "--- | --- | --- | ---\n",
    "wc_type| `str` | Type of value | 'Prop'\n",
    "|| 'Prop' = 'WP' / 'FC' / 'SAT' |\n",
    "|| 'Num' = XXX m3/m3 |\n",
    "|| 'Pct' = % TAW |\n",
    "Method | `str` | 'Depth' = Interpolate depth points; 'Layer' = Constant value for each soil layer | 'Layer'\n",
    "depth_layer| `list` | locations in soil profile (soil layer or depth) | [1]\n",
    "value| `list` | value at that location | ['FC']\n",
    "\n",
    "In the cell below we initialize the water content to be Field Capacity (FC) accross the whole soil profile. \n"
   ]
  },
  {
   "cell_type": "code",
   "execution_count": 7,
   "metadata": {
    "id": "3PvQ5QYR49tG"
   },
   "outputs": [],
   "source": [
    "InitWC = InitialWaterContent(value=['FC'])"
   ]
  },
  {
   "cell_type": "markdown",
   "metadata": {
    "id": "LCVt1vn93lQY"
   },
   "source": [
    "## Model"
   ]
  },
  {
   "cell_type": "markdown",
   "metadata": {
    "id": "6c_yzyC5DWWB"
   },
   "source": [
    "Additional model components you can specify include irrigation management, field management and groundwater conditions as well as field management during fallow periods. Details on how to specify these are detailed in Appendix D however they will all default to none if not specified. \n",
    "\n",
    "Once you have defined your weather data, `Crop`,  `Soil` and `InitWC` then you're ready to run your simulation.\n",
    "\n",
    "\n",
    "To run a simulation we need to combine the components we have selected into an `AquaCropModel`. It is here where we specify the simulation start date and end date (YYYY/MM/DD). Running the cell below will create an AquaCropModel simulation with all the parameters we have specified so far. "
   ]
  },
  {
   "cell_type": "code",
   "execution_count": 8,
   "metadata": {
    "id": "AOmiLw0eXDoZ"
   },
   "outputs": [],
   "source": [
    "# combine into aquacrop model and specify start and end simulation date\n",
    "model = AquaCropModel(sim_start_time=f'{1979}/10/01',\n",
    "                      sim_end_time=f'{1985}/05/30',\n",
    "                      weather_df=weather_data,\n",
    "                      soil=sandy_loam,\n",
    "                      crop=wheat,\n",
    "                      initial_water_content=InitWC)"
   ]
  },
  {
   "cell_type": "markdown",
   "metadata": {
    "id": "3zSA_nKxwt4J"
   },
   "source": [
    "The model can then be run forwards N days using `.run_model(N)`. Most of the time you will want to instead run the model till the end of the simulation which is done by running `.run_model(till_termination=True)`\n"
   ]
  },
  {
   "cell_type": "code",
   "execution_count": 9,
   "metadata": {
    "id": "huZOrZOxXDlj"
   },
   "outputs": [
    {
     "data": {
      "text/plain": [
       "True"
      ]
     },
     "execution_count": 9,
     "metadata": {},
     "output_type": "execute_result"
    }
   ],
   "source": [
    "# run model till termination\n",
    "model.run_model(till_termination=True)"
   ]
  },
  {
   "cell_type": "markdown",
   "metadata": {
    "id": "k33-Kb6l8jg4"
   },
   "source": [
    "Once the model has finished running, four different output files will be produced. The `water_flux` output shows daily water flux variables such as total water storage. The `water_storage` output shows daily water storage in each compartment. The `crop_growth` output details daily crop variables such as canopy cover. The `final_stats` output lists the final Yield and total Irrigation for each season. These outputs can be accessed through the cell below. Use `.head(N)` to view the first `N` rows. Full details on the output files can be found in Appendix E."
   ]
  },
  {
   "cell_type": "code",
   "execution_count": 10,
   "metadata": {
    "colab": {
     "base_uri": "https://localhost:8080/",
     "height": 204
    },
    "id": "CsD30D0_psHY",
    "outputId": "df2261eb-30c2-40d5-867d-da38c7f812ac"
   },
   "outputs": [
    {
     "data": {
      "text/html": [
       "<div>\n",
       "<style scoped>\n",
       "    .dataframe tbody tr th:only-of-type {\n",
       "        vertical-align: middle;\n",
       "    }\n",
       "\n",
       "    .dataframe tbody tr th {\n",
       "        vertical-align: top;\n",
       "    }\n",
       "\n",
       "    .dataframe thead th {\n",
       "        text-align: right;\n",
       "    }\n",
       "</style>\n",
       "<table border=\"1\" class=\"dataframe\">\n",
       "  <thead>\n",
       "    <tr style=\"text-align: right;\">\n",
       "      <th></th>\n",
       "      <th>Season</th>\n",
       "      <th>crop Type</th>\n",
       "      <th>Harvest Date (YYYY/MM/DD)</th>\n",
       "      <th>Harvest Date (Step)</th>\n",
       "      <th>Yield (tonne/ha)</th>\n",
       "      <th>Seasonal irrigation (mm)</th>\n",
       "    </tr>\n",
       "  </thead>\n",
       "  <tbody>\n",
       "    <tr>\n",
       "      <th>0</th>\n",
       "      <td>0</td>\n",
       "      <td>Wheat</td>\n",
       "      <td>1980-04-15</td>\n",
       "      <td>196</td>\n",
       "      <td>8.940140</td>\n",
       "      <td>0</td>\n",
       "    </tr>\n",
       "    <tr>\n",
       "      <th>1</th>\n",
       "      <td>1</td>\n",
       "      <td>Wheat</td>\n",
       "      <td>1981-04-16</td>\n",
       "      <td>562</td>\n",
       "      <td>8.310045</td>\n",
       "      <td>0</td>\n",
       "    </tr>\n",
       "    <tr>\n",
       "      <th>2</th>\n",
       "      <td>2</td>\n",
       "      <td>Wheat</td>\n",
       "      <td>1982-04-16</td>\n",
       "      <td>927</td>\n",
       "      <td>9.136122</td>\n",
       "      <td>0</td>\n",
       "    </tr>\n",
       "    <tr>\n",
       "      <th>3</th>\n",
       "      <td>3</td>\n",
       "      <td>Wheat</td>\n",
       "      <td>1983-04-16</td>\n",
       "      <td>1292</td>\n",
       "      <td>8.811568</td>\n",
       "      <td>0</td>\n",
       "    </tr>\n",
       "    <tr>\n",
       "      <th>4</th>\n",
       "      <td>4</td>\n",
       "      <td>Wheat</td>\n",
       "      <td>1984-04-15</td>\n",
       "      <td>1657</td>\n",
       "      <td>8.682660</td>\n",
       "      <td>0</td>\n",
       "    </tr>\n",
       "  </tbody>\n",
       "</table>\n",
       "</div>"
      ],
      "text/plain": [
       "   Season crop Type Harvest Date (YYYY/MM/DD)  Harvest Date (Step)  \\\n",
       "0       0     Wheat                1980-04-15                  196   \n",
       "1       1     Wheat                1981-04-16                  562   \n",
       "2       2     Wheat                1982-04-16                  927   \n",
       "3       3     Wheat                1983-04-16                 1292   \n",
       "4       4     Wheat                1984-04-15                 1657   \n",
       "\n",
       "   Yield (tonne/ha)  Seasonal irrigation (mm)  \n",
       "0          8.940140                         0  \n",
       "1          8.310045                         0  \n",
       "2          9.136122                         0  \n",
       "3          8.811568                         0  \n",
       "4          8.682660                         0  "
      ]
     },
     "execution_count": 10,
     "metadata": {},
     "output_type": "execute_result"
    }
   ],
   "source": [
    "# model._outputs.water_flux.head()\n",
    "# model._outputs.water_storage.head()\n",
    "# model._outputs.crop_growth.head()\n",
    "model._outputs.final_stats.head()"
   ]
  },
  {
   "cell_type": "markdown",
   "metadata": {
    "id": "m4l7TRHAsr3O"
   },
   "source": [
    "Congratulations, you have run your first AquaCrop-OSPy model. As a final example, let's create and run another model with a different soil type and compare the results. "
   ]
  },
  {
   "cell_type": "code",
   "execution_count": 11,
   "metadata": {
    "id": "sv230V0lFCtX"
   },
   "outputs": [
    {
     "data": {
      "text/plain": [
       "True"
      ]
     },
     "execution_count": 11,
     "metadata": {},
     "output_type": "execute_result"
    }
   ],
   "source": [
    "# combine into aquacrop model and specify start and end simulation date\n",
    "model_clay = AquaCropModel(sim_start_time=f'{1979}/10/01',\n",
    "                      sim_end_time=f'{1985}/05/30',\n",
    "                      weather_df=weather_data,\n",
    "                      soil=Soil('Clay'),\n",
    "                      crop=wheat,\n",
    "                      initial_water_content=InitWC)\n",
    "\n",
    "model_clay.run_model(till_termination=True)"
   ]
  },
  {
   "cell_type": "markdown",
   "metadata": {
    "id": "abE93UUZ9Ubi"
   },
   "source": [
    "Let's use the pandas library to collate our seasonal yields so we can visualize our results."
   ]
  },
  {
   "cell_type": "code",
   "execution_count": 12,
   "metadata": {
    "id": "VQO2RdLOEdyt"
   },
   "outputs": [],
   "source": [
    "import pandas as pd # import pandas library\n",
    "\n",
    "names=['Sandy Loam','Clay']\n",
    "\n",
    "#combine our two output files\n",
    "dflist=[model._outputs.final_stats,\n",
    "        model_clay._outputs.final_stats] \n",
    "\n",
    "outlist=[]\n",
    "for i in range(len(dflist)): # go through our two output files\n",
    "    temp = pd.DataFrame(dflist[i]['Yield (tonne/ha)']) # extract the seasonal yield data\n",
    "    temp['label']=names[i] # add the soil type label\n",
    "    outlist.append(temp) # save processed results\n",
    "\n",
    "# combine results\n",
    "all_outputs = pd.concat(outlist,axis=0)"
   ]
  },
  {
   "cell_type": "markdown",
   "metadata": {
    "id": "mPtsTDHuGADt"
   },
   "source": [
    "Now we can leverage some of pythons great plotting libraries `seaborn` and `matplotlib` to visualize and compare the yields from the two different soil types."
   ]
  },
  {
   "cell_type": "code",
   "execution_count": 13,
   "metadata": {
    "colab": {
     "base_uri": "https://localhost:8080/",
     "height": 465
    },
    "id": "RnyOSRf0EdzF",
    "outputId": "55ffcdfd-2551-4017-a393-6eebc42a4a39"
   },
   "outputs": [
    {
     "data": {
      "text/plain": [
       "Text(0, 0.5, 'Yield (tonne/ha)')"
      ]
     },
     "execution_count": 13,
     "metadata": {},
     "output_type": "execute_result"
    },
    {
     "data": {
      "image/png": "[encoded data removed]",
      "text/plain": [
       "<Figure size 720x504 with 1 Axes>"
      ]
     },
     "metadata": {
      "needs_background": "light"
     },
     "output_type": "display_data"
    }
   ],
   "source": [
    "import matplotlib.pyplot as plt\n",
    "import seaborn as sns\n",
    "\n",
    "#create figure\n",
    "fig,ax=plt.subplots(1,1,figsize=(10,7),)\n",
    "\n",
    "# create box plot\n",
    "sns.boxplot(data=all_outputs,x='label',y='Yield (tonne/ha)',ax=ax,)\n",
    "\n",
    "# labels and font sizes\n",
    "ax.tick_params(labelsize=15)\n",
    "ax.set_xlabel(' ')\n",
    "ax.set_ylabel('Yield (tonne/ha)',fontsize=18)"
   ]
  },
  {
   "cell_type": "markdown",
   "metadata": {
    "id": "H_3G-avcE7t2"
   },
   "source": [
    "And this brings an end to Notebook 1. Feel free to edit any of the code cells, import your own weather data, try new soils and crops. \n",
    "\n",
    "In Notebook 2 we use the model to estimate irrigation water demands."
   ]
  },
  {
   "cell_type": "markdown",
   "metadata": {
    "id": "Q8Oeack8mfU4"
   },
   "source": [
    "# Appendix A: Built-in weather files"
   ]
  },
  {
   "cell_type": "markdown",
   "metadata": {
    "id": "BU5dV2SxmfVD"
   },
   "source": [
    "AquaCrop-OSPy includes a number of in-built weather files for different locations around the world, which users can select for model simulations. These have been taken from AquaCrop defaults (with the exception of Champion Nebraska **link**). In-built weather files currently include:\n",
    "\n",
    "\n",
    "1.   Tunis (date) | 'tunis_climate.txt'\n",
    "2.   Brussels (date) | 'brussels_climate.txt'\n",
    "3.   Hyderabad (date) | 'hyderabad_climate.txt'\n",
    "4.   Champion, Nebraska (date) | 'champion_climate.txt'\n",
    "\n",
    "The filepath to these can be found using the `get_filepath` function and the data can be read in using the `prepare_weather` function."
   ]
  },
  {
   "cell_type": "code",
   "execution_count": 14,
   "metadata": {
    "colab": {
     "base_uri": "https://localhost:8080/",
     "height": 466
    },
    "id": "v5tX0PZ2mfVF",
    "outputId": "e1c0174f-d56f-40cc-9767-506b363ab070"
   },
   "outputs": [
    {
     "data": {
      "text/html": [
       "<div>\n",
       "<style scoped>\n",
       "    .dataframe tbody tr th:only-of-type {\n",
       "        vertical-align: middle;\n",
       "    }\n",
       "\n",
       "    .dataframe tbody tr th {\n",
       "        vertical-align: top;\n",
       "    }\n",
       "\n",
       "    .dataframe thead th {\n",
       "        text-align: right;\n",
       "    }\n",
       "</style>\n",
       "<table border=\"1\" class=\"dataframe\">\n",
       "  <thead>\n",
       "    <tr style=\"text-align: right;\">\n",
       "      <th></th>\n",
       "      <th>MinTemp</th>\n",
       "      <th>MaxTemp</th>\n",
       "      <th>Precipitation</th>\n",
       "      <th>ReferenceET</th>\n",
       "      <th>Date</th>\n",
       "    </tr>\n",
       "  </thead>\n",
       "  <tbody>\n",
       "    <tr>\n",
       "      <th>0</th>\n",
       "      <td>11.3</td>\n",
       "      <td>27.3</td>\n",
       "      <td>0.0</td>\n",
       "      <td>3.6</td>\n",
       "      <td>2000-01-01</td>\n",
       "    </tr>\n",
       "    <tr>\n",
       "      <th>1</th>\n",
       "      <td>11.3</td>\n",
       "      <td>26.7</td>\n",
       "      <td>0.0</td>\n",
       "      <td>3.7</td>\n",
       "      <td>2000-01-02</td>\n",
       "    </tr>\n",
       "    <tr>\n",
       "      <th>2</th>\n",
       "      <td>8.6</td>\n",
       "      <td>26.7</td>\n",
       "      <td>0.0</td>\n",
       "      <td>3.4</td>\n",
       "      <td>2000-01-03</td>\n",
       "    </tr>\n",
       "    <tr>\n",
       "      <th>3</th>\n",
       "      <td>7.6</td>\n",
       "      <td>27.2</td>\n",
       "      <td>0.0</td>\n",
       "      <td>3.4</td>\n",
       "      <td>2000-01-04</td>\n",
       "    </tr>\n",
       "    <tr>\n",
       "      <th>4</th>\n",
       "      <td>9.1</td>\n",
       "      <td>27.9</td>\n",
       "      <td>0.0</td>\n",
       "      <td>3.4</td>\n",
       "      <td>2000-01-05</td>\n",
       "    </tr>\n",
       "  </tbody>\n",
       "</table>\n",
       "</div>"
      ],
      "text/plain": [
       "   MinTemp  MaxTemp  Precipitation  ReferenceET       Date\n",
       "0     11.3     27.3            0.0          3.6 2000-01-01\n",
       "1     11.3     26.7            0.0          3.7 2000-01-02\n",
       "2      8.6     26.7            0.0          3.4 2000-01-03\n",
       "3      7.6     27.2            0.0          3.4 2000-01-04\n",
       "4      9.1     27.9            0.0          3.4 2000-01-05"
      ]
     },
     "execution_count": 14,
     "metadata": {},
     "output_type": "execute_result"
    }
   ],
   "source": [
    "# get location of built in weather data file\n",
    "path = get_filepath('hyderabad_climate.txt')\n",
    "# read in weather data file and put into correct format\n",
    "wdf = prepare_weather(path)\n",
    "# show weather data\n",
    "wdf.head()"
   ]
  },
  {
   "cell_type": "markdown",
   "metadata": {
    "id": "lrw9n4Ejowl1"
   },
   "source": [
    "# Appendix B: Custom Soils"
   ]
  },
  {
   "cell_type": "markdown",
   "metadata": {
    "id": "5ZYAeykxSk6Y"
   },
   "source": [
    "Custom soil classes can be created by passing 'custom' as the soil type when creating a `Soil`. In the cell below we create a custom soil with a curve number (CN=46) and readily evaporable water (REW=7). Here is a full list of the parameters you can specify:\n",
    "\n",
    "Variable Name | Description | Default\n",
    "--- | --- | ---\n",
    "soilType | Soil classification e.g. 'sandy_loam' | REQUIRED\n",
    "dz | thickness of each soil compartment e.g. 12 compartments of thickness 0.1m | [0.1]*12\n",
    "CalcSHP | Calculate soil hydraulic properties (0 = No, 1 = Yes) | 0\n",
    "AdjREW | Adjust default value for readily evaporable water (0 = No, 1 = Yes) | 1\n",
    "REW | Readily evaporable water (mm) | 9.0\n",
    "CalcCN | Calculate curve number (0 = No, 1 = Yes) | 1\n",
    "CN | Curve Number | 61.0\n",
    "zRes | Depth of restrictive soil layer (negative value if not present) | -999\n",
    " | **The parameters below should not be changed without expert knowledge** | \n",
    "EvapZsurf | Thickness of soil surface skin evaporation layer (m) | 0.04\n",
    "EvapZmin | Minimum thickness of full soil surface evaporation layer (m) | 0.15\n",
    "EvapZmax | Maximum thickness of full soil surface evaporation layer (m) | 0.30\n",
    "Kex | Maximum soil evaporation coefficient | 1.1\n",
    "fevap | Shape factor describing reduction in soil evaporation in stage 2. | 4\n",
    "fWrelExp | Proportional value of Wrel at which soil evaporation layer expands | 0.4\n",
    "fwcc | Maximum coefficient for soil evaporation reduction due to sheltering effect of withered canopy | 50\n",
    "zCN | Thickness of soil surface (m) used to calculate water content to adjust curve number | 0.3\n",
    "zGerm | Thickness of soil surface (m) used to calculate water content for germination | 0.3\n",
    "AdjCN | Adjust curve number for antecedent moisture content (0: No, 1: Yes) | 1\n",
    "fshape_cr | Capillary rise shape factor | 16\n",
    "zTop | Thickness of soil surface layer for water stress comparisons (m) | 0.1\n",
    "\n",
    "\n",
    "\n"
   ]
  },
  {
   "cell_type": "code",
   "execution_count": 15,
   "metadata": {
    "id": "Qhnpqi42wJX6"
   },
   "outputs": [],
   "source": [
    "custom = Soil('custom',cn=46,rew=7)"
   ]
  },
  {
   "cell_type": "markdown",
   "metadata": {
    "id": "-cgXsG7ixTNB"
   },
   "source": [
    "Soil hydraulic properties are then specified using `.add_layer()`. This function needs the thickness of the soil layer [m] (just the depth of soil profile if only using 1 layer), the water content at Wilting Point [m^3/m^3], Field Capacity [m^3/m^3], Saturation [m^3/m^3], as well as the hydraulic conductivity [mm/day] and soil penetrability [%]."
   ]
  },
  {
   "cell_type": "code",
   "execution_count": 16,
   "metadata": {
    "id": "9P6v2sJ3xNmX"
   },
   "outputs": [],
   "source": [
    "custom.add_layer(thickness=custom.zSoil,thWP=0.24,\n",
    "                 thFC=0.40,thS=0.50,Ksat=155,\n",
    "                 penetrability=100)"
   ]
  },
  {
   "cell_type": "markdown",
   "metadata": {
    "id": "C03-phCOyYCL"
   },
   "source": [
    "Soil hydraulic properties can also be specified using the soil textural composition. This is done using the `.add_layer_from_texture()` function. This function needs the soil thickness [m], sand, clay, organic matter content [%], and the penetrability [%]"
   ]
  },
  {
   "cell_type": "code",
   "execution_count": 17,
   "metadata": {
    "id": "OHgfs8hQyN4b"
   },
   "outputs": [],
   "source": [
    "custom = Soil('custom',cn=46,rew=7)\n",
    "custom.add_layer_from_texture(thickness=custom.zSoil,\n",
    "                              Sand=10,Clay=35,\n",
    "                              OrgMat=2.5,penetrability=100)"
   ]
  },
  {
   "cell_type": "markdown",
   "metadata": {
    "id": "KZL8iIpKy_Qx"
   },
   "source": [
    "To view your custom soil profile simple run the cell below."
   ]
  },
  {
   "cell_type": "code",
   "execution_count": 18,
   "metadata": {
    "colab": {
     "base_uri": "https://localhost:8080/",
     "height": 421
    },
    "id": "ls_wkaILzFvH",
    "outputId": "2b136231-f184-4c13-fc64-a42318d6e374"
   },
   "outputs": [
    {
     "data": {
      "text/html": [
       "<div>\n",
       "<style scoped>\n",
       "    .dataframe tbody tr th:only-of-type {\n",
       "        vertical-align: middle;\n",
       "    }\n",
       "\n",
       "    .dataframe tbody tr th {\n",
       "        vertical-align: top;\n",
       "    }\n",
       "\n",
       "    .dataframe thead th {\n",
       "        text-align: right;\n",
       "    }\n",
       "</style>\n",
       "<table border=\"1\" class=\"dataframe\">\n",
       "  <thead>\n",
       "    <tr style=\"text-align: right;\">\n",
       "      <th></th>\n",
       "      <th>Comp</th>\n",
       "      <th>Layer</th>\n",
       "      <th>dz</th>\n",
       "      <th>dzsum</th>\n",
       "      <th>zBot</th>\n",
       "      <th>z_top</th>\n",
       "      <th>zMid</th>\n",
       "      <th>th_dry</th>\n",
       "      <th>th_wp</th>\n",
       "      <th>th_fc</th>\n",
       "      <th>th_s</th>\n",
       "      <th>Ksat</th>\n",
       "      <th>penetrability</th>\n",
       "      <th>tau</th>\n",
       "    </tr>\n",
       "  </thead>\n",
       "  <tbody>\n",
       "    <tr>\n",
       "      <th>0</th>\n",
       "      <td>0</td>\n",
       "      <td>1.0</td>\n",
       "      <td>0.1</td>\n",
       "      <td>0.1</td>\n",
       "      <td>0.1</td>\n",
       "      <td>0.0</td>\n",
       "      <td>0.05</td>\n",
       "      <td>0.1075</td>\n",
       "      <td>0.215</td>\n",
       "      <td>0.382</td>\n",
       "      <td>0.511</td>\n",
       "      <td>136.4</td>\n",
       "      <td>100</td>\n",
       "      <td>0.48</td>\n",
       "    </tr>\n",
       "    <tr>\n",
       "      <th>1</th>\n",
       "      <td>1</td>\n",
       "      <td>1.0</td>\n",
       "      <td>0.1</td>\n",
       "      <td>0.2</td>\n",
       "      <td>0.2</td>\n",
       "      <td>0.1</td>\n",
       "      <td>0.15</td>\n",
       "      <td>0.1075</td>\n",
       "      <td>0.215</td>\n",
       "      <td>0.382</td>\n",
       "      <td>0.511</td>\n",
       "      <td>136.4</td>\n",
       "      <td>100</td>\n",
       "      <td>0.48</td>\n",
       "    </tr>\n",
       "    <tr>\n",
       "      <th>2</th>\n",
       "      <td>2</td>\n",
       "      <td>1.0</td>\n",
       "      <td>0.1</td>\n",
       "      <td>0.3</td>\n",
       "      <td>0.3</td>\n",
       "      <td>0.2</td>\n",
       "      <td>0.25</td>\n",
       "      <td>0.1075</td>\n",
       "      <td>0.215</td>\n",
       "      <td>0.382</td>\n",
       "      <td>0.511</td>\n",
       "      <td>136.4</td>\n",
       "      <td>100</td>\n",
       "      <td>0.48</td>\n",
       "    </tr>\n",
       "    <tr>\n",
       "      <th>3</th>\n",
       "      <td>3</td>\n",
       "      <td>1.0</td>\n",
       "      <td>0.1</td>\n",
       "      <td>0.4</td>\n",
       "      <td>0.4</td>\n",
       "      <td>0.3</td>\n",
       "      <td>0.35</td>\n",
       "      <td>0.1075</td>\n",
       "      <td>0.215</td>\n",
       "      <td>0.382</td>\n",
       "      <td>0.511</td>\n",
       "      <td>136.4</td>\n",
       "      <td>100</td>\n",
       "      <td>0.48</td>\n",
       "    </tr>\n",
       "    <tr>\n",
       "      <th>4</th>\n",
       "      <td>4</td>\n",
       "      <td>1.0</td>\n",
       "      <td>0.1</td>\n",
       "      <td>0.5</td>\n",
       "      <td>0.5</td>\n",
       "      <td>0.4</td>\n",
       "      <td>0.45</td>\n",
       "      <td>0.1075</td>\n",
       "      <td>0.215</td>\n",
       "      <td>0.382</td>\n",
       "      <td>0.511</td>\n",
       "      <td>136.4</td>\n",
       "      <td>100</td>\n",
       "      <td>0.48</td>\n",
       "    </tr>\n",
       "    <tr>\n",
       "      <th>5</th>\n",
       "      <td>5</td>\n",
       "      <td>1.0</td>\n",
       "      <td>0.1</td>\n",
       "      <td>0.6</td>\n",
       "      <td>0.6</td>\n",
       "      <td>0.5</td>\n",
       "      <td>0.55</td>\n",
       "      <td>0.1075</td>\n",
       "      <td>0.215</td>\n",
       "      <td>0.382</td>\n",
       "      <td>0.511</td>\n",
       "      <td>136.4</td>\n",
       "      <td>100</td>\n",
       "      <td>0.48</td>\n",
       "    </tr>\n",
       "    <tr>\n",
       "      <th>6</th>\n",
       "      <td>6</td>\n",
       "      <td>1.0</td>\n",
       "      <td>0.1</td>\n",
       "      <td>0.7</td>\n",
       "      <td>0.7</td>\n",
       "      <td>0.6</td>\n",
       "      <td>0.65</td>\n",
       "      <td>0.1075</td>\n",
       "      <td>0.215</td>\n",
       "      <td>0.382</td>\n",
       "      <td>0.511</td>\n",
       "      <td>136.4</td>\n",
       "      <td>100</td>\n",
       "      <td>0.48</td>\n",
       "    </tr>\n",
       "    <tr>\n",
       "      <th>7</th>\n",
       "      <td>7</td>\n",
       "      <td>1.0</td>\n",
       "      <td>0.1</td>\n",
       "      <td>0.8</td>\n",
       "      <td>0.8</td>\n",
       "      <td>0.7</td>\n",
       "      <td>0.75</td>\n",
       "      <td>0.1075</td>\n",
       "      <td>0.215</td>\n",
       "      <td>0.382</td>\n",
       "      <td>0.511</td>\n",
       "      <td>136.4</td>\n",
       "      <td>100</td>\n",
       "      <td>0.48</td>\n",
       "    </tr>\n",
       "    <tr>\n",
       "      <th>8</th>\n",
       "      <td>8</td>\n",
       "      <td>1.0</td>\n",
       "      <td>0.1</td>\n",
       "      <td>0.9</td>\n",
       "      <td>0.9</td>\n",
       "      <td>0.8</td>\n",
       "      <td>0.85</td>\n",
       "      <td>0.1075</td>\n",
       "      <td>0.215</td>\n",
       "      <td>0.382</td>\n",
       "      <td>0.511</td>\n",
       "      <td>136.4</td>\n",
       "      <td>100</td>\n",
       "      <td>0.48</td>\n",
       "    </tr>\n",
       "    <tr>\n",
       "      <th>9</th>\n",
       "      <td>9</td>\n",
       "      <td>1.0</td>\n",
       "      <td>0.1</td>\n",
       "      <td>1.0</td>\n",
       "      <td>1.0</td>\n",
       "      <td>0.9</td>\n",
       "      <td>0.95</td>\n",
       "      <td>0.1075</td>\n",
       "      <td>0.215</td>\n",
       "      <td>0.382</td>\n",
       "      <td>0.511</td>\n",
       "      <td>136.4</td>\n",
       "      <td>100</td>\n",
       "      <td>0.48</td>\n",
       "    </tr>\n",
       "    <tr>\n",
       "      <th>10</th>\n",
       "      <td>10</td>\n",
       "      <td>1.0</td>\n",
       "      <td>0.1</td>\n",
       "      <td>1.1</td>\n",
       "      <td>1.1</td>\n",
       "      <td>1.0</td>\n",
       "      <td>1.05</td>\n",
       "      <td>0.1075</td>\n",
       "      <td>0.215</td>\n",
       "      <td>0.382</td>\n",
       "      <td>0.511</td>\n",
       "      <td>136.4</td>\n",
       "      <td>100</td>\n",
       "      <td>0.48</td>\n",
       "    </tr>\n",
       "    <tr>\n",
       "      <th>11</th>\n",
       "      <td>11</td>\n",
       "      <td>1.0</td>\n",
       "      <td>0.1</td>\n",
       "      <td>1.2</td>\n",
       "      <td>1.2</td>\n",
       "      <td>1.1</td>\n",
       "      <td>1.15</td>\n",
       "      <td>0.1075</td>\n",
       "      <td>0.215</td>\n",
       "      <td>0.382</td>\n",
       "      <td>0.511</td>\n",
       "      <td>136.4</td>\n",
       "      <td>100</td>\n",
       "      <td>0.48</td>\n",
       "    </tr>\n",
       "  </tbody>\n",
       "</table>\n",
       "</div>"
      ],
      "text/plain": [
       "    Comp  Layer   dz  dzsum  zBot  z_top  zMid  th_dry  th_wp  th_fc   th_s  \\\n",
       "0      0    1.0  0.1    0.1   0.1    0.0  0.05  0.1075  0.215  0.382  0.511   \n",
       "1      1    1.0  0.1    0.2   0.2    0.1  0.15  0.1075  0.215  0.382  0.511   \n",
       "2      2    1.0  0.1    0.3   0.3    0.2  0.25  0.1075  0.215  0.382  0.511   \n",
       "3      3    1.0  0.1    0.4   0.4    0.3  0.35  0.1075  0.215  0.382  0.511   \n",
       "4      4    1.0  0.1    0.5   0.5    0.4  0.45  0.1075  0.215  0.382  0.511   \n",
       "5      5    1.0  0.1    0.6   0.6    0.5  0.55  0.1075  0.215  0.382  0.511   \n",
       "6      6    1.0  0.1    0.7   0.7    0.6  0.65  0.1075  0.215  0.382  0.511   \n",
       "7      7    1.0  0.1    0.8   0.8    0.7  0.75  0.1075  0.215  0.382  0.511   \n",
       "8      8    1.0  0.1    0.9   0.9    0.8  0.85  0.1075  0.215  0.382  0.511   \n",
       "9      9    1.0  0.1    1.0   1.0    0.9  0.95  0.1075  0.215  0.382  0.511   \n",
       "10    10    1.0  0.1    1.1   1.1    1.0  1.05  0.1075  0.215  0.382  0.511   \n",
       "11    11    1.0  0.1    1.2   1.2    1.1  1.15  0.1075  0.215  0.382  0.511   \n",
       "\n",
       "     Ksat  penetrability   tau  \n",
       "0   136.4            100  0.48  \n",
       "1   136.4            100  0.48  \n",
       "2   136.4            100  0.48  \n",
       "3   136.4            100  0.48  \n",
       "4   136.4            100  0.48  \n",
       "5   136.4            100  0.48  \n",
       "6   136.4            100  0.48  \n",
       "7   136.4            100  0.48  \n",
       "8   136.4            100  0.48  \n",
       "9   136.4            100  0.48  \n",
       "10  136.4            100  0.48  \n",
       "11  136.4            100  0.48  "
      ]
     },
     "execution_count": 18,
     "metadata": {},
     "output_type": "execute_result"
    }
   ],
   "source": [
    "custom.profile"
   ]
  },
  {
   "cell_type": "markdown",
   "metadata": {
    "id": "V9ybhk35zvVc"
   },
   "source": [
    "Both these layer creation methods can be combined together to create multi layered soils. N.B. It is important to note that when you are using a multi layered soil profile, you must also specify a multi layered InitialWaterContent profile, otherwise the model will set all layers to the default Field Capacity (see Appendix D: Initial water content for full details)."
   ]
  },
  {
   "cell_type": "code",
   "execution_count": 19,
   "metadata": {
    "colab": {
     "base_uri": "https://localhost:8080/",
     "height": 421
    },
    "id": "T7tZ8zW7z9R0",
    "outputId": "94159a05-5f3a-4232-9c7f-57ff8cfcb66f"
   },
   "outputs": [
    {
     "data": {
      "text/html": [
       "<div>\n",
       "<style scoped>\n",
       "    .dataframe tbody tr th:only-of-type {\n",
       "        vertical-align: middle;\n",
       "    }\n",
       "\n",
       "    .dataframe tbody tr th {\n",
       "        vertical-align: top;\n",
       "    }\n",
       "\n",
       "    .dataframe thead th {\n",
       "        text-align: right;\n",
       "    }\n",
       "</style>\n",
       "<table border=\"1\" class=\"dataframe\">\n",
       "  <thead>\n",
       "    <tr style=\"text-align: right;\">\n",
       "      <th></th>\n",
       "      <th>Comp</th>\n",
       "      <th>Layer</th>\n",
       "      <th>dz</th>\n",
       "      <th>dzsum</th>\n",
       "      <th>zBot</th>\n",
       "      <th>z_top</th>\n",
       "      <th>zMid</th>\n",
       "      <th>th_dry</th>\n",
       "      <th>th_wp</th>\n",
       "      <th>th_fc</th>\n",
       "      <th>th_s</th>\n",
       "      <th>Ksat</th>\n",
       "      <th>penetrability</th>\n",
       "      <th>tau</th>\n",
       "    </tr>\n",
       "  </thead>\n",
       "  <tbody>\n",
       "    <tr>\n",
       "      <th>0</th>\n",
       "      <td>0</td>\n",
       "      <td>1.0</td>\n",
       "      <td>0.1</td>\n",
       "      <td>0.1</td>\n",
       "      <td>0.1</td>\n",
       "      <td>0.0</td>\n",
       "      <td>0.05</td>\n",
       "      <td>0.1200</td>\n",
       "      <td>0.240</td>\n",
       "      <td>0.400</td>\n",
       "      <td>0.500</td>\n",
       "      <td>155.0</td>\n",
       "      <td>100.0</td>\n",
       "      <td>0.51</td>\n",
       "    </tr>\n",
       "    <tr>\n",
       "      <th>1</th>\n",
       "      <td>1</td>\n",
       "      <td>1.0</td>\n",
       "      <td>0.1</td>\n",
       "      <td>0.2</td>\n",
       "      <td>0.2</td>\n",
       "      <td>0.1</td>\n",
       "      <td>0.15</td>\n",
       "      <td>0.1200</td>\n",
       "      <td>0.240</td>\n",
       "      <td>0.400</td>\n",
       "      <td>0.500</td>\n",
       "      <td>155.0</td>\n",
       "      <td>100.0</td>\n",
       "      <td>0.51</td>\n",
       "    </tr>\n",
       "    <tr>\n",
       "      <th>2</th>\n",
       "      <td>2</td>\n",
       "      <td>1.0</td>\n",
       "      <td>0.1</td>\n",
       "      <td>0.3</td>\n",
       "      <td>0.3</td>\n",
       "      <td>0.2</td>\n",
       "      <td>0.25</td>\n",
       "      <td>0.1200</td>\n",
       "      <td>0.240</td>\n",
       "      <td>0.400</td>\n",
       "      <td>0.500</td>\n",
       "      <td>155.0</td>\n",
       "      <td>100.0</td>\n",
       "      <td>0.51</td>\n",
       "    </tr>\n",
       "    <tr>\n",
       "      <th>3</th>\n",
       "      <td>3</td>\n",
       "      <td>2.0</td>\n",
       "      <td>0.1</td>\n",
       "      <td>0.4</td>\n",
       "      <td>0.4</td>\n",
       "      <td>0.3</td>\n",
       "      <td>0.35</td>\n",
       "      <td>0.1075</td>\n",
       "      <td>0.215</td>\n",
       "      <td>0.382</td>\n",
       "      <td>0.511</td>\n",
       "      <td>136.4</td>\n",
       "      <td>100.0</td>\n",
       "      <td>0.48</td>\n",
       "    </tr>\n",
       "    <tr>\n",
       "      <th>4</th>\n",
       "      <td>4</td>\n",
       "      <td>2.0</td>\n",
       "      <td>0.1</td>\n",
       "      <td>0.5</td>\n",
       "      <td>0.5</td>\n",
       "      <td>0.4</td>\n",
       "      <td>0.45</td>\n",
       "      <td>0.1075</td>\n",
       "      <td>0.215</td>\n",
       "      <td>0.382</td>\n",
       "      <td>0.511</td>\n",
       "      <td>136.4</td>\n",
       "      <td>100.0</td>\n",
       "      <td>0.48</td>\n",
       "    </tr>\n",
       "    <tr>\n",
       "      <th>5</th>\n",
       "      <td>5</td>\n",
       "      <td>2.0</td>\n",
       "      <td>0.1</td>\n",
       "      <td>0.6</td>\n",
       "      <td>0.6</td>\n",
       "      <td>0.5</td>\n",
       "      <td>0.55</td>\n",
       "      <td>0.1075</td>\n",
       "      <td>0.215</td>\n",
       "      <td>0.382</td>\n",
       "      <td>0.511</td>\n",
       "      <td>136.4</td>\n",
       "      <td>100.0</td>\n",
       "      <td>0.48</td>\n",
       "    </tr>\n",
       "    <tr>\n",
       "      <th>6</th>\n",
       "      <td>6</td>\n",
       "      <td>2.0</td>\n",
       "      <td>0.1</td>\n",
       "      <td>0.7</td>\n",
       "      <td>0.7</td>\n",
       "      <td>0.6</td>\n",
       "      <td>0.65</td>\n",
       "      <td>0.1075</td>\n",
       "      <td>0.215</td>\n",
       "      <td>0.382</td>\n",
       "      <td>0.511</td>\n",
       "      <td>136.4</td>\n",
       "      <td>100.0</td>\n",
       "      <td>0.48</td>\n",
       "    </tr>\n",
       "    <tr>\n",
       "      <th>7</th>\n",
       "      <td>7</td>\n",
       "      <td>2.0</td>\n",
       "      <td>0.1</td>\n",
       "      <td>0.8</td>\n",
       "      <td>0.8</td>\n",
       "      <td>0.7</td>\n",
       "      <td>0.75</td>\n",
       "      <td>0.1075</td>\n",
       "      <td>0.215</td>\n",
       "      <td>0.382</td>\n",
       "      <td>0.511</td>\n",
       "      <td>136.4</td>\n",
       "      <td>100.0</td>\n",
       "      <td>0.48</td>\n",
       "    </tr>\n",
       "    <tr>\n",
       "      <th>8</th>\n",
       "      <td>8</td>\n",
       "      <td>2.0</td>\n",
       "      <td>0.1</td>\n",
       "      <td>0.9</td>\n",
       "      <td>0.9</td>\n",
       "      <td>0.8</td>\n",
       "      <td>0.85</td>\n",
       "      <td>0.1075</td>\n",
       "      <td>0.215</td>\n",
       "      <td>0.382</td>\n",
       "      <td>0.511</td>\n",
       "      <td>136.4</td>\n",
       "      <td>100.0</td>\n",
       "      <td>0.48</td>\n",
       "    </tr>\n",
       "    <tr>\n",
       "      <th>9</th>\n",
       "      <td>9</td>\n",
       "      <td>2.0</td>\n",
       "      <td>0.1</td>\n",
       "      <td>1.0</td>\n",
       "      <td>1.0</td>\n",
       "      <td>0.9</td>\n",
       "      <td>0.95</td>\n",
       "      <td>0.1075</td>\n",
       "      <td>0.215</td>\n",
       "      <td>0.382</td>\n",
       "      <td>0.511</td>\n",
       "      <td>136.4</td>\n",
       "      <td>100.0</td>\n",
       "      <td>0.48</td>\n",
       "    </tr>\n",
       "    <tr>\n",
       "      <th>10</th>\n",
       "      <td>10</td>\n",
       "      <td>2.0</td>\n",
       "      <td>0.1</td>\n",
       "      <td>1.1</td>\n",
       "      <td>1.1</td>\n",
       "      <td>1.0</td>\n",
       "      <td>1.05</td>\n",
       "      <td>0.1075</td>\n",
       "      <td>0.215</td>\n",
       "      <td>0.382</td>\n",
       "      <td>0.511</td>\n",
       "      <td>136.4</td>\n",
       "      <td>100.0</td>\n",
       "      <td>0.48</td>\n",
       "    </tr>\n",
       "    <tr>\n",
       "      <th>11</th>\n",
       "      <td>11</td>\n",
       "      <td>2.0</td>\n",
       "      <td>0.1</td>\n",
       "      <td>1.2</td>\n",
       "      <td>1.2</td>\n",
       "      <td>1.1</td>\n",
       "      <td>1.15</td>\n",
       "      <td>0.1075</td>\n",
       "      <td>0.215</td>\n",
       "      <td>0.382</td>\n",
       "      <td>0.511</td>\n",
       "      <td>136.4</td>\n",
       "      <td>100.0</td>\n",
       "      <td>0.48</td>\n",
       "    </tr>\n",
       "  </tbody>\n",
       "</table>\n",
       "</div>"
      ],
      "text/plain": [
       "    Comp  Layer   dz  dzsum  zBot  z_top  zMid  th_dry  th_wp  th_fc   th_s  \\\n",
       "0      0    1.0  0.1    0.1   0.1    0.0  0.05  0.1200  0.240  0.400  0.500   \n",
       "1      1    1.0  0.1    0.2   0.2    0.1  0.15  0.1200  0.240  0.400  0.500   \n",
       "2      2    1.0  0.1    0.3   0.3    0.2  0.25  0.1200  0.240  0.400  0.500   \n",
       "3      3    2.0  0.1    0.4   0.4    0.3  0.35  0.1075  0.215  0.382  0.511   \n",
       "4      4    2.0  0.1    0.5   0.5    0.4  0.45  0.1075  0.215  0.382  0.511   \n",
       "5      5    2.0  0.1    0.6   0.6    0.5  0.55  0.1075  0.215  0.382  0.511   \n",
       "6      6    2.0  0.1    0.7   0.7    0.6  0.65  0.1075  0.215  0.382  0.511   \n",
       "7      7    2.0  0.1    0.8   0.8    0.7  0.75  0.1075  0.215  0.382  0.511   \n",
       "8      8    2.0  0.1    0.9   0.9    0.8  0.85  0.1075  0.215  0.382  0.511   \n",
       "9      9    2.0  0.1    1.0   1.0    0.9  0.95  0.1075  0.215  0.382  0.511   \n",
       "10    10    2.0  0.1    1.1   1.1    1.0  1.05  0.1075  0.215  0.382  0.511   \n",
       "11    11    2.0  0.1    1.2   1.2    1.1  1.15  0.1075  0.215  0.382  0.511   \n",
       "\n",
       "     Ksat  penetrability   tau  \n",
       "0   155.0          100.0  0.51  \n",
       "1   155.0          100.0  0.51  \n",
       "2   155.0          100.0  0.51  \n",
       "3   136.4          100.0  0.48  \n",
       "4   136.4          100.0  0.48  \n",
       "5   136.4          100.0  0.48  \n",
       "6   136.4          100.0  0.48  \n",
       "7   136.4          100.0  0.48  \n",
       "8   136.4          100.0  0.48  \n",
       "9   136.4          100.0  0.48  \n",
       "10  136.4          100.0  0.48  \n",
       "11  136.4          100.0  0.48  "
      ]
     },
     "execution_count": 19,
     "metadata": {},
     "output_type": "execute_result"
    }
   ],
   "source": [
    "custom = Soil('custom',cn=46,rew=7)\n",
    "\n",
    "custom.add_layer(thickness=0.3,thWP=0.24,\n",
    "                 thFC=0.40,thS=0.50,Ksat=155,\n",
    "                 penetrability=100)\n",
    "\n",
    "custom.add_layer_from_texture(thickness=1.5,\n",
    "                              Sand=10,Clay=35,\n",
    "                              OrgMat=2.5,penetrability=100)\n",
    "\n",
    "custom.profile"
   ]
  },
  {
   "cell_type": "markdown",
   "metadata": {
    "id": "SdJ4dr1_QKgh"
   },
   "source": [
    "In AquaCrop-OSPy, as in AquaCrop and AquaCrop-OS, the soil is split into compartments. By default these are 12 compartments of thickness 0.1m where the bottom layers will expand in order to exceed the maximum crop root depth. \n",
    "\n",
    "This depth (`dz`) can be also be altered by the user by changing the `dz` argument. For example: Lets say we want the top 6 compartments to be 0.1m each and the bottom 6 compartments to be 0.2m each..."
   ]
  },
  {
   "cell_type": "code",
   "execution_count": 20,
   "metadata": {
    "id": "Vke4fRhNRHz_"
   },
   "outputs": [],
   "source": [
    "sandy_loam = Soil('SandyLoam',dz=[0.1]*6+[0.2]*6)"
   ]
  },
  {
   "cell_type": "markdown",
   "metadata": {
    "id": "bND19_rm0n-6"
   },
   "source": [
    "Similarly default soil types can be adjust by passing in the changed variables."
   ]
  },
  {
   "cell_type": "code",
   "execution_count": 21,
   "metadata": {
    "colab": {
     "base_uri": "https://localhost:8080/",
     "height": 204
    },
    "id": "90UavX3G0o15",
    "outputId": "ad4ae02e-6b9a-4815-c11b-d085493e7e6a"
   },
   "outputs": [
    {
     "data": {
      "text/html": [
       "<div>\n",
       "<style scoped>\n",
       "    .dataframe tbody tr th:only-of-type {\n",
       "        vertical-align: middle;\n",
       "    }\n",
       "\n",
       "    .dataframe tbody tr th {\n",
       "        vertical-align: top;\n",
       "    }\n",
       "\n",
       "    .dataframe thead th {\n",
       "        text-align: right;\n",
       "    }\n",
       "</style>\n",
       "<table border=\"1\" class=\"dataframe\">\n",
       "  <thead>\n",
       "    <tr style=\"text-align: right;\">\n",
       "      <th></th>\n",
       "      <th>Comp</th>\n",
       "      <th>Layer</th>\n",
       "      <th>dz</th>\n",
       "      <th>dzsum</th>\n",
       "      <th>zBot</th>\n",
       "      <th>z_top</th>\n",
       "      <th>zMid</th>\n",
       "      <th>th_dry</th>\n",
       "      <th>th_wp</th>\n",
       "      <th>th_fc</th>\n",
       "      <th>th_s</th>\n",
       "      <th>Ksat</th>\n",
       "      <th>penetrability</th>\n",
       "      <th>tau</th>\n",
       "    </tr>\n",
       "  </thead>\n",
       "  <tbody>\n",
       "    <tr>\n",
       "      <th>0</th>\n",
       "      <td>0</td>\n",
       "      <td>1.0</td>\n",
       "      <td>0.1</td>\n",
       "      <td>0.1</td>\n",
       "      <td>0.1</td>\n",
       "      <td>0.0</td>\n",
       "      <td>0.05</td>\n",
       "      <td>0.05</td>\n",
       "      <td>0.1</td>\n",
       "      <td>0.22</td>\n",
       "      <td>0.41</td>\n",
       "      <td>1200</td>\n",
       "      <td>100</td>\n",
       "      <td>1</td>\n",
       "    </tr>\n",
       "    <tr>\n",
       "      <th>1</th>\n",
       "      <td>1</td>\n",
       "      <td>1.0</td>\n",
       "      <td>0.1</td>\n",
       "      <td>0.2</td>\n",
       "      <td>0.2</td>\n",
       "      <td>0.1</td>\n",
       "      <td>0.15</td>\n",
       "      <td>0.05</td>\n",
       "      <td>0.1</td>\n",
       "      <td>0.22</td>\n",
       "      <td>0.41</td>\n",
       "      <td>1200</td>\n",
       "      <td>100</td>\n",
       "      <td>1</td>\n",
       "    </tr>\n",
       "    <tr>\n",
       "      <th>2</th>\n",
       "      <td>2</td>\n",
       "      <td>1.0</td>\n",
       "      <td>0.1</td>\n",
       "      <td>0.3</td>\n",
       "      <td>0.3</td>\n",
       "      <td>0.2</td>\n",
       "      <td>0.25</td>\n",
       "      <td>0.05</td>\n",
       "      <td>0.1</td>\n",
       "      <td>0.22</td>\n",
       "      <td>0.41</td>\n",
       "      <td>1200</td>\n",
       "      <td>100</td>\n",
       "      <td>1</td>\n",
       "    </tr>\n",
       "    <tr>\n",
       "      <th>3</th>\n",
       "      <td>3</td>\n",
       "      <td>1.0</td>\n",
       "      <td>0.1</td>\n",
       "      <td>0.4</td>\n",
       "      <td>0.4</td>\n",
       "      <td>0.3</td>\n",
       "      <td>0.35</td>\n",
       "      <td>0.05</td>\n",
       "      <td>0.1</td>\n",
       "      <td>0.22</td>\n",
       "      <td>0.41</td>\n",
       "      <td>1200</td>\n",
       "      <td>100</td>\n",
       "      <td>1</td>\n",
       "    </tr>\n",
       "    <tr>\n",
       "      <th>4</th>\n",
       "      <td>4</td>\n",
       "      <td>1.0</td>\n",
       "      <td>0.1</td>\n",
       "      <td>0.5</td>\n",
       "      <td>0.5</td>\n",
       "      <td>0.4</td>\n",
       "      <td>0.45</td>\n",
       "      <td>0.05</td>\n",
       "      <td>0.1</td>\n",
       "      <td>0.22</td>\n",
       "      <td>0.41</td>\n",
       "      <td>1200</td>\n",
       "      <td>100</td>\n",
       "      <td>1</td>\n",
       "    </tr>\n",
       "  </tbody>\n",
       "</table>\n",
       "</div>"
      ],
      "text/plain": [
       "   Comp  Layer   dz  dzsum  zBot  z_top  zMid  th_dry  th_wp  th_fc  th_s  \\\n",
       "0     0    1.0  0.1    0.1   0.1    0.0  0.05    0.05    0.1   0.22  0.41   \n",
       "1     1    1.0  0.1    0.2   0.2    0.1  0.15    0.05    0.1   0.22  0.41   \n",
       "2     2    1.0  0.1    0.3   0.3    0.2  0.25    0.05    0.1   0.22  0.41   \n",
       "3     3    1.0  0.1    0.4   0.4    0.3  0.35    0.05    0.1   0.22  0.41   \n",
       "4     4    1.0  0.1    0.5   0.5    0.4  0.45    0.05    0.1   0.22  0.41   \n",
       "\n",
       "   Ksat  penetrability  tau  \n",
       "0  1200            100    1  \n",
       "1  1200            100    1  \n",
       "2  1200            100    1  \n",
       "3  1200            100    1  \n",
       "4  1200            100    1  "
      ]
     },
     "execution_count": 21,
     "metadata": {},
     "output_type": "execute_result"
    }
   ],
   "source": [
    "local_sandy_loam = Soil('SandyLoam',dz=[0.1]*6+[0.2]*6,cn=46,rew=7)\n",
    "local_sandy_loam.profile.head()"
   ]
  },
  {
   "cell_type": "markdown",
   "metadata": {
    "id": "fnHkUFHhYspy"
   },
   "source": [
    "# Apendix C: Custom Crops\n"
   ]
  },
  {
   "cell_type": "markdown",
   "metadata": {
    "id": "axwcRvOyl2dQ"
   },
   "source": [
    "It is more likely that the user will want to modify one of the built in crops (as opposed to modelling a brand new crop. To do this simply pass in the altered parameters when you create the `Crop`. Any parameters you specify here will override the crop defaults. To model a crop that does not have built in defaults, you can specify the crop type 'custom' and pass in all the parameters listed in the table below."
   ]
  },
  {
   "cell_type": "code",
   "execution_count": 22,
   "metadata": {
    "id": "hTTSX25V_6C-"
   },
   "outputs": [],
   "source": [
    "local_wheat = Crop('Wheat',\n",
    "                        planting_date='11/01',\n",
    "                        harvest_date='06/30',\n",
    "                        CGC = 0.0051,CDC = 0.0035)"
   ]
  },
  {
   "cell_type": "markdown",
   "metadata": {
    "id": "_9U_WZGv_6DH"
   },
   "source": [
    "Below is a full list of the crop parameters that can be altered.\n",
    "\n",
    "Variable Name | Default | Description\n",
    "--- | --- | ---\n",
    "Name | | Crop Name e.ge. 'maize'\n",
    "CropType | | Crop Type (1 = Leafy vegetable, 2 = Root/tuber, 3 = Fruit/grain)\n",
    "PlantMethod | | Planting method (0 = Transplanted, 1 =  Sown)\n",
    "CalendarType | | Calendar Type (1 = Calendar days, 2 = Growing degree days)\n",
    "SwitchGDD | | Convert calendar to GDD mode if inputs are given in calendar days (0 = No; 1 = Yes)\n",
    "PlantingDate | | Planting Date (mm/dd)\n",
    "HarvestDate | | Latest Harvest Date (mm/dd)\n",
    "Emergence  | | Growing degree/Calendar days from sowing to emergence/transplant recovery\n",
    "MaxRooting  | | Growing degree/Calendar days from sowing to maximum rooting\n",
    "Senescence  | | Growing degree/Calendar days from sowing to senescence\n",
    "Maturity  | | Growing degree/Calendar days from sowing to maturity\n",
    "HIstart  | | Growing degree/Calendar days from sowing to start of yield formation\n",
    "Flowering  | | Duration of flowering in growing degree/calendar days (-999 for non-fruit/grain crops)\n",
    "YldForm  | | Duration of yield formation in growing degree/calendar days\n",
    "GDDmethod  | | Growing degree day calculation method\n",
    "Tbase  | | Base temperature (degC) below which growth does not progress\n",
    "Tupp  | | Upper temperature (degC) above which crop development no longer increases\n",
    "PolHeatStress  | | Pollination affected by heat stress (0 = No, 1 = Yes)\n",
    "Tmax_up  | | Maximum air temperature (degC) above which pollination begins to fail\n",
    "Tmax_lo  | | Maximum air temperature (degC) at which pollination completely fails\n",
    "PolColdStress | | Pollination affected by cold stress (0 = No, 1 = Yes)\n",
    "Tmin_up  | | Minimum air temperature (degC) below which pollination begins to fail\n",
    "Tmin_lo  | | Minimum air temperature (degC) at which pollination completely fails\n",
    "TrColdStress  | | Transpiration affected by cold temperature stress (0 = No, 1 = Yes)\n",
    "GDD_up  | | Minimum growing degree days (degC/day) required for full crop transpiration potential\n",
    "GDD_lo | | Growing degree days (degC/day) at which no crop transpiration occurs\n",
    "Zmin  | | Minimum effective rooting depth (m)\n",
    "Zmax  | | Maximum rooting depth (m)\n",
    "fshape_r | | Shape factor describing root expansion\n",
    "SxTopQ  | | Maximum root water extraction at top of the root zone (m3\\/ m3\\/ day)\n",
    "SxBotQ  | | Maximum root water extraction at the bottom of the root zone (m3\\/ m3\\/ day)\n",
    "SeedSize | | Soil surface area (cm2) covered by an individual seedling at 90% emergence\n",
    "PlantPop | | Number of plants per hectare\n",
    "CCx   | | Maximum canopy cover (fraction of soil cover)\n",
    "CDC  | | Canopy decline coefficient (fraction per GDD/calendar day)\n",
    "CGC | | Canopy growth coefficient (fraction per GDD)\n",
    "Kcb  | | Crop coefficient when canopy growth is complete but prior to senescence\n",
    "fage | |  Decline of crop coefficient due to ageing (%/day)\n",
    "WP  | | Water productivity normalized for ET0 and C02 (g/m2)\n",
    "WPy | | Adjustment of water productivity in yield formation stage (% of WP)\n",
    "fsink  | | Crop performance under elevated atmospheric CO2 concentration (%/100)\n",
    "HI0  | | Reference harvest index\n",
    "dHI_pre  | | Possible increase of harvest index due to water stress before flowering (%)\n",
    "a_HI  | | Coefficient describing positive impact on harvest index of restricted vegetative growth during yield formation\n",
    "b_HI | | Coefficient describing negative impact on harvest index of stomatal closure during yield formation\n",
    "dHI0 | | Maximum allowable increase of harvest index above reference value\n",
    "Determinant  | | Crop Determinacy (0 = Indeterminant, 1 = Determinant)\n",
    "exc  | | Excess of potential fruits\n",
    "p_up1 | | Upper soil water depletion threshold for water stress effects on affect canopy expansion\n",
    "p_up2  | | Upper soil water depletion threshold for water stress effects on canopy stomatal control\n",
    "p_up3  | | Upper soil water depletion threshold for water stress effects on canopy senescence\n",
    "p_up4  | | Upper soil water depletion threshold for water stress effects on canopy pollination\n",
    "p_lo1  | | Lower soil water depletion threshold for water stress effects on canopy expansion\n",
    "p_lo2 | | Lower soil water depletion threshold for water stress effects on canopy stomatal control\n",
    "p_lo3 | |  Lower soil water depletion threshold for water stress effects on canopy senescence\n",
    "p_lo4  | | Lower soil water depletion threshold for water stress effects on canopy pollination\n",
    "fshape_w1  | | Shape factor describing water stress effects on canopy expansion\n",
    "fshape_w2 | | Shape factor describing water stress effects on stomatal control\n",
    "fshape_w3  | | Shape factor describing water stress effects on canopy senescence\n",
    "fshape_w4 | | Shape factor describing water stress effects on pollination\n",
    " | | **The paramaters below should not be changed without expert knowledge** \n",
    "fshape_b | 13.8135 | Shape factor describing the reduction in biomass production for insufficient growing degree days\n",
    "PctZmin | 70 | Initial percentage of minimum effective rooting depth\n",
    "fshape_ex | -6 | Shape factor describing the effects of water stress on root expansion\n",
    "ETadj | 1 | Adjustment to water stress thresholds depending on daily ET0 (0 | No, 1 | Yes)\n",
    "Aer | 5 | Vol (%) below saturation at which stress begins to occur due to deficient aeration\n",
    "LagAer | 3 | Number of days lag before aeration stress affects crop growth\n",
    "beta | 12 | Reduction (%) to p_lo3 when early canopy senescence is triggered\n",
    "a_Tr | 1 | Exponent parameter for adjustment of Kcx once senescence is triggered\n",
    "GermThr | 0.2 | Proportion of total water storage needed for crop to germinate\n",
    "CCmin | 0.05 | Minimum canopy size below which yield formation cannot occur\n",
    "MaxFlowPct | 33.3 | Proportion of total flowering time (%) at which peak flowering occurs\n",
    "HIini | 0.01 | Initial harvest index\n",
    "bsted | 0.000138 | WP co2 adjustment parameter given by Steduto et al. 2007\n",
    "bface | 0.001165 | WP co2 adjustment parameter given by FACE experiments\n",
    "\n"
   ]
  },
  {
   "cell_type": "markdown",
   "metadata": {
    "id": "xPslnGHG4je_"
   },
   "source": [
    "# Appendix D: Managment and initial conditions"
   ]
  },
  {
   "cell_type": "markdown",
   "metadata": {
    "id": "n-6lk5wMoj1K"
   },
   "source": [
    "Field management and groundwater conditions can also be specified in an AquaCrop-OSPy with a `FieldMngt` and `GroundWater` class object respectively. If these are not specified then they will default to None. "
   ]
  },
  {
   "cell_type": "markdown",
   "metadata": {
    "id": "7eYlR59M4-wW"
   },
   "source": [
    "### Field management"
   ]
  },
  {
   "cell_type": "markdown",
   "metadata": {
    "id": "zzbJF4Ci5jW5"
   },
   "source": [
    "Field Management is specified via the `FieldMngt`. These are largely based around the inclusion of either mulches or bunds. Two `FieldMngt` objects can be created for the fallow and growing period. The parameters you can specify in a `FieldMngt` are:\n",
    "\n",
    "Variable Name | Type | Description | Default\n",
    "--- | --- | --- | ---\n",
    "Mulches| `bool` | Soil surface covered by mulches (True or False) | False\n",
    "MulchPct| `float` |  Area of soil surface covered by mulches (%) | 50\n",
    "fMulch| `float` |  Soil evaporation adjustment factor due to effect of mulches | 0.5\n",
    "Bunds| `bool` |Surface bunds present (True or False) | False\n",
    "zBund| `float` |  Bund height (m) | 0\n",
    "BundWater| `float` |  Initial water height in surface bunds (mm) | 0.\n",
    "CNadj| `bool` | field conditions affect curve number (True or False) | False\n",
    "CNadjPct| `float` |   Change in curve number (positive or negative) (%) | 0\n",
    "SRinhb| `bool` | Management practices fully inhibit surface runoff (True or False) | False\n"
   ]
  },
  {
   "cell_type": "markdown",
   "metadata": {
    "id": "0yfUjkOX5jQ_"
   },
   "source": [
    "In the cell below we create an `AquaCropModel` passing in a `FieldMngt` with 100% field covering by mulches. \n",
    "\n"
   ]
  },
  {
   "cell_type": "code",
   "execution_count": 23,
   "metadata": {
    "id": "SeGBo3im84eQ"
   },
   "outputs": [],
   "source": [
    "mulches_model = AquaCropModel(sim_start_time=f'{1979}/10/01',\n",
    "                      sim_end_time=f'{1985}/05/30',\n",
    "                      weather_df=weather_data,\n",
    "                      soil=sandy_loam,\n",
    "                      crop=wheat,\n",
    "                      initial_water_content=InitWC,                      \n",
    "                      field_management=FieldMngt(mulches=True,\n",
    "                                               mulch_pct=100,\n",
    "                                               f_mulch=0.5))\n"
   ]
  },
  {
   "cell_type": "code",
   "execution_count": 24,
   "metadata": {
    "id": "aTJkxbj69rGJ"
   },
   "outputs": [
    {
     "data": {
      "text/plain": [
       "True"
      ]
     },
     "execution_count": 24,
     "metadata": {},
     "output_type": "execute_result"
    }
   ],
   "source": [
    "mulches_model.run_model(till_termination=True)\n"
   ]
  },
  {
   "cell_type": "code",
   "execution_count": 25,
   "metadata": {
    "colab": {
     "base_uri": "https://localhost:8080/",
     "height": 235
    },
    "id": "KSroqlcC90mg",
    "outputId": "e4430da2-6643-4c3a-efb1-5a00ef872a8b"
   },
   "outputs": [
    {
     "data": {
      "text/html": [
       "<div>\n",
       "<style scoped>\n",
       "    .dataframe tbody tr th:only-of-type {\n",
       "        vertical-align: middle;\n",
       "    }\n",
       "\n",
       "    .dataframe tbody tr th {\n",
       "        vertical-align: top;\n",
       "    }\n",
       "\n",
       "    .dataframe thead th {\n",
       "        text-align: right;\n",
       "    }\n",
       "</style>\n",
       "<table border=\"1\" class=\"dataframe\">\n",
       "  <thead>\n",
       "    <tr style=\"text-align: right;\">\n",
       "      <th></th>\n",
       "      <th>Season</th>\n",
       "      <th>crop Type</th>\n",
       "      <th>Harvest Date (YYYY/MM/DD)</th>\n",
       "      <th>Harvest Date (Step)</th>\n",
       "      <th>Yield (tonne/ha)</th>\n",
       "      <th>Seasonal irrigation (mm)</th>\n",
       "    </tr>\n",
       "  </thead>\n",
       "  <tbody>\n",
       "    <tr>\n",
       "      <th>0</th>\n",
       "      <td>0</td>\n",
       "      <td>Wheat</td>\n",
       "      <td>1980-04-15</td>\n",
       "      <td>196</td>\n",
       "      <td>8.940140</td>\n",
       "      <td>0</td>\n",
       "    </tr>\n",
       "    <tr>\n",
       "      <th>1</th>\n",
       "      <td>1</td>\n",
       "      <td>Wheat</td>\n",
       "      <td>1981-04-16</td>\n",
       "      <td>562</td>\n",
       "      <td>8.310045</td>\n",
       "      <td>0</td>\n",
       "    </tr>\n",
       "    <tr>\n",
       "      <th>2</th>\n",
       "      <td>2</td>\n",
       "      <td>Wheat</td>\n",
       "      <td>1982-04-16</td>\n",
       "      <td>927</td>\n",
       "      <td>9.136756</td>\n",
       "      <td>0</td>\n",
       "    </tr>\n",
       "    <tr>\n",
       "      <th>3</th>\n",
       "      <td>3</td>\n",
       "      <td>Wheat</td>\n",
       "      <td>1983-04-16</td>\n",
       "      <td>1292</td>\n",
       "      <td>8.811568</td>\n",
       "      <td>0</td>\n",
       "    </tr>\n",
       "    <tr>\n",
       "      <th>4</th>\n",
       "      <td>4</td>\n",
       "      <td>Wheat</td>\n",
       "      <td>1984-04-15</td>\n",
       "      <td>1657</td>\n",
       "      <td>8.682660</td>\n",
       "      <td>0</td>\n",
       "    </tr>\n",
       "    <tr>\n",
       "      <th>5</th>\n",
       "      <td>5</td>\n",
       "      <td>Wheat</td>\n",
       "      <td>1985-04-16</td>\n",
       "      <td>2023</td>\n",
       "      <td>8.924816</td>\n",
       "      <td>0</td>\n",
       "    </tr>\n",
       "  </tbody>\n",
       "</table>\n",
       "</div>"
      ],
      "text/plain": [
       "   Season crop Type Harvest Date (YYYY/MM/DD)  Harvest Date (Step)  \\\n",
       "0       0     Wheat                1980-04-15                  196   \n",
       "1       1     Wheat                1981-04-16                  562   \n",
       "2       2     Wheat                1982-04-16                  927   \n",
       "3       3     Wheat                1983-04-16                 1292   \n",
       "4       4     Wheat                1984-04-15                 1657   \n",
       "5       5     Wheat                1985-04-16                 2023   \n",
       "\n",
       "   Yield (tonne/ha)  Seasonal irrigation (mm)  \n",
       "0          8.940140                         0  \n",
       "1          8.310045                         0  \n",
       "2          9.136756                         0  \n",
       "3          8.811568                         0  \n",
       "4          8.682660                         0  \n",
       "5          8.924816                         0  "
      ]
     },
     "execution_count": 25,
     "metadata": {},
     "output_type": "execute_result"
    }
   ],
   "source": [
    "# get final output\n",
    "mulches_model._outputs.final_stats"
   ]
  },
  {
   "cell_type": "markdown",
   "metadata": {
    "id": "va4GXkZe5jKa"
   },
   "source": [
    "### Groundwater"
   ]
  },
  {
   "cell_type": "markdown",
   "metadata": {
    "id": "vuKR24R6EGYB"
   },
   "source": [
    "We can also take a look at how to specify groundwater depth. This is done via the `GroundWater` which takes in the following parameters:\n",
    "\n",
    "Variable Name | Type | Description | Default\n",
    "--- | --- | --- | ---\n",
    "WaterTable| `str` | water table considered 'Y' or 'N' | 'N'\n",
    "Method | `str` | Water table input data = 'Constant' / 'Variable' | 'Constant'\n",
    "dates| `list[str]` | water table observation dates 'YYYYMMDD' | []\n",
    "values| `list[float]` | value at that location | []\n",
    "\n",
    "The `GroundWater` needs a list of dates and water table depths. If `Method='Variable'` the water table depth will be linearly interpolated between these dates. The cell below creates a model with a constant groundwater depth of 2m \n"
   ]
  },
  {
   "cell_type": "code",
   "execution_count": 26,
   "metadata": {
    "id": "1IRW8n8GCkyA"
   },
   "outputs": [],
   "source": [
    "# constant groundwater depth of 2m\n",
    "gw_model = AquaCropModel(sim_start_time=f'{1979}/10/01',\n",
    "                      sim_end_time=f'{1985}/05/30',\n",
    "                      weather_df=weather_data,\n",
    "                      soil=sandy_loam,\n",
    "                      crop=wheat,\n",
    "                      initial_water_content=InitWC,            \n",
    "                      groundwater=GroundWater(water_table='Y',\n",
    "                                       dates=[f'{1979}/10/01'],\n",
    "                                       values=[2])\n",
    "                    )"
   ]
  },
  {
   "cell_type": "code",
   "execution_count": 27,
   "metadata": {
    "id": "Uh8WnBtcCkvg"
   },
   "outputs": [
    {
     "data": {
      "text/plain": [
       "True"
      ]
     },
     "execution_count": 27,
     "metadata": {},
     "output_type": "execute_result"
    }
   ],
   "source": [
    "gw_model.run_model(till_termination=True)"
   ]
  },
  {
   "cell_type": "code",
   "execution_count": 28,
   "metadata": {
    "colab": {
     "base_uri": "https://localhost:8080/",
     "height": 235
    },
    "id": "r-OL3h5o18i1",
    "outputId": "2f4a3837-61e9-4e37-f8e9-5154af20ab09"
   },
   "outputs": [
    {
     "data": {
      "text/html": [
       "<div>\n",
       "<style scoped>\n",
       "    .dataframe tbody tr th:only-of-type {\n",
       "        vertical-align: middle;\n",
       "    }\n",
       "\n",
       "    .dataframe tbody tr th {\n",
       "        vertical-align: top;\n",
       "    }\n",
       "\n",
       "    .dataframe thead th {\n",
       "        text-align: right;\n",
       "    }\n",
       "</style>\n",
       "<table border=\"1\" class=\"dataframe\">\n",
       "  <thead>\n",
       "    <tr style=\"text-align: right;\">\n",
       "      <th></th>\n",
       "      <th>Season</th>\n",
       "      <th>crop Type</th>\n",
       "      <th>Harvest Date (YYYY/MM/DD)</th>\n",
       "      <th>Harvest Date (Step)</th>\n",
       "      <th>Yield (tonne/ha)</th>\n",
       "      <th>Seasonal irrigation (mm)</th>\n",
       "    </tr>\n",
       "  </thead>\n",
       "  <tbody>\n",
       "    <tr>\n",
       "      <th>0</th>\n",
       "      <td>0</td>\n",
       "      <td>Wheat</td>\n",
       "      <td>1980-04-15</td>\n",
       "      <td>196</td>\n",
       "      <td>8.940140</td>\n",
       "      <td>0</td>\n",
       "    </tr>\n",
       "    <tr>\n",
       "      <th>1</th>\n",
       "      <td>1</td>\n",
       "      <td>Wheat</td>\n",
       "      <td>1981-04-16</td>\n",
       "      <td>562</td>\n",
       "      <td>8.310045</td>\n",
       "      <td>0</td>\n",
       "    </tr>\n",
       "    <tr>\n",
       "      <th>2</th>\n",
       "      <td>2</td>\n",
       "      <td>Wheat</td>\n",
       "      <td>1982-04-16</td>\n",
       "      <td>927</td>\n",
       "      <td>9.136769</td>\n",
       "      <td>0</td>\n",
       "    </tr>\n",
       "    <tr>\n",
       "      <th>3</th>\n",
       "      <td>3</td>\n",
       "      <td>Wheat</td>\n",
       "      <td>1983-04-16</td>\n",
       "      <td>1292</td>\n",
       "      <td>8.811568</td>\n",
       "      <td>0</td>\n",
       "    </tr>\n",
       "    <tr>\n",
       "      <th>4</th>\n",
       "      <td>4</td>\n",
       "      <td>Wheat</td>\n",
       "      <td>1984-04-15</td>\n",
       "      <td>1657</td>\n",
       "      <td>8.682660</td>\n",
       "      <td>0</td>\n",
       "    </tr>\n",
       "    <tr>\n",
       "      <th>5</th>\n",
       "      <td>5</td>\n",
       "      <td>Wheat</td>\n",
       "      <td>1985-04-16</td>\n",
       "      <td>2023</td>\n",
       "      <td>8.924816</td>\n",
       "      <td>0</td>\n",
       "    </tr>\n",
       "  </tbody>\n",
       "</table>\n",
       "</div>"
      ],
      "text/plain": [
       "   Season crop Type Harvest Date (YYYY/MM/DD)  Harvest Date (Step)  \\\n",
       "0       0     Wheat                1980-04-15                  196   \n",
       "1       1     Wheat                1981-04-16                  562   \n",
       "2       2     Wheat                1982-04-16                  927   \n",
       "3       3     Wheat                1983-04-16                 1292   \n",
       "4       4     Wheat                1984-04-15                 1657   \n",
       "5       5     Wheat                1985-04-16                 2023   \n",
       "\n",
       "   Yield (tonne/ha)  Seasonal irrigation (mm)  \n",
       "0          8.940140                         0  \n",
       "1          8.310045                         0  \n",
       "2          9.136769                         0  \n",
       "3          8.811568                         0  \n",
       "4          8.682660                         0  \n",
       "5          8.924816                         0  "
      ]
     },
     "execution_count": 28,
     "metadata": {},
     "output_type": "execute_result"
    }
   ],
   "source": [
    "gw_model._outputs.final_stats"
   ]
  },
  {
   "cell_type": "markdown",
   "metadata": {},
   "source": [
    "### Initial water content"
   ]
  },
  {
   "cell_type": "markdown",
   "metadata": {},
   "source": [
    "Finally, we can look at how to modify the initial water content. As a reminder from earlier in the notebook, here are the input parameters to choose from:\n",
    "\n",
    "Variable Name | Type | Description | Default\n",
    "--- | --- | --- | ---\n",
    "wc_type| `str` | Type of value | 'Prop'\n",
    "|| 'Prop' = 'WP' / 'FC' / 'SAT' |\n",
    "|| 'Num' = XXX m3/m3 |\n",
    "|| 'Pct' = % TAW |\n",
    "Method | `str` | 'Depth' = Interpolate depth points; 'Layer' = Constant value for each soil layer | 'Layer'\n",
    "depth_layer| `list` | locations in soil profile (soil layer or depth) | [1]\n",
    "value| `list` | value at that location | ['FC']\n",
    "\n",
    "In the cell below, we initialize the water content to be Field Capacity (FC) accross the whole soil profile like before, followed by an identical initial water content with all default values specified for clarity. "
   ]
  },
  {
   "cell_type": "code",
   "execution_count": null,
   "metadata": {},
   "outputs": [],
   "source": [
    "# Default WC at Field Capacity:\n",
    "InitWC = InitialWaterContent(value=['FC'])\n",
    "\n",
    "# Same default WC but displaying all parameter values:\n",
    "defaultWC = InitialWaterContent(wc_type = 'Prop',\n",
    "                               method = 'Layer',\n",
    "                               depth_layer= [1],\n",
    "                               value = ['FC'])"
   ]
  },
  {
   "cell_type": "markdown",
   "metadata": {},
   "source": [
    "For illustrative purposes, here is a range of possible initial water content specifications using the full range of AquaCrop's options:"
   ]
  },
  {
   "cell_type": "code",
   "execution_count": null,
   "metadata": {},
   "outputs": [],
   "source": [
    "# Specify WC by Wilting Point (WP)\n",
    "wpWC =  InitialWaterContent(wc_type = 'Prop',\n",
    "                            method = 'Layer',\n",
    "                            depth_layer= [1],\n",
    "                            value = ['WP'])\n",
    "\n",
    "# Specify WC by saturation (SAT)\n",
    "satWC = InitialWaterContent(wc_type = 'Prop',\n",
    "                            method = 'Layer',\n",
    "                            depth_layer= [1],\n",
    "                            value = ['SAT'])\n",
    "\n",
    "# Specify WC by percentage of Total Available Water (% TAW)\n",
    "tawWC = InitialWaterContent(wc_type = 'Pct',\n",
    "                            method = 'Layer',\n",
    "                            depth_layer= [1],\n",
    "                            value = [80])\n",
    "\n",
    "# Specify WC by an amount of water (m3/m3)\n",
    "numWC = InitialWaterContent(wc_type = 'Prop',\n",
    "                            method = 'Layer',\n",
    "                            depth_layer= [1],\n",
    "                            value = [0.2])"
   ]
  },
  {
   "cell_type": "markdown",
   "metadata": {},
   "source": [
    "You can also create multi layered initial water content (IWC) profiles by increasing the length of the 'depth_layer' and 'value' lists, where the first value relates to the first (uppermost) soil layer. This is especially important when specifying custom multi layered soil profiles - if the number of layers in your IWC profile does not match the number of layers in your soil profile, the IWC of all soil layers will be set to Field Capacity."
   ]
  },
  {
   "cell_type": "code",
   "execution_count": null,
   "metadata": {},
   "outputs": [],
   "source": [
    "# If you have more than one soil layer, you can specify the initial water content of each layer. \n",
    "# e.g. for soil profile with two layers, first filled to Field Capacity, second to Wilting Point:\n",
    "multiWC =   InitialWaterContent(wc_type = 'Prop',\n",
    "                                method = 'Layer',\n",
    "                                depth_layer= [1,2],\n",
    "                                value = ['FC', 'WP'])\n",
    "\n",
    "# Alternatively you could specify two different % TAWs:\n",
    "multiTawWC = InitialWaterContent(wc_type = 'Pct',\n",
    "                                method = 'Layer',\n",
    "                                depth_layer= [1,2],\n",
    "                                value = [80, 50])"
   ]
  },
  {
   "cell_type": "markdown",
   "metadata": {
    "id": "ER2wtEHBpk66"
   },
   "source": [
    "# Appendix E: Output files"
   ]
  },
  {
   "cell_type": "markdown",
   "metadata": {
    "id": "wCbrcp0Fw9dj"
   },
   "source": [
    "There are 4 different outputs produced by the model:\n",
    "\n",
    "\n",
    "1.  Daily Water Flux \n",
    "\n",
    "Variable Name | Unit\n",
    "--- | --- \n",
    "water content | mm\n",
    "groundwater depth | mm\n",
    "surface storage | mm\n",
    "irrigation |  mm\n",
    "infiltration | mm\n",
    "runoff | mm\n",
    "deep percolation | mm\n",
    "capillary rise | mm\n",
    "groundwater inflow | mm\n",
    "actual surface evaporation | mm\n",
    "potential surface evaporation | mm\n",
    "actual transpiration | mm\n",
    "precipitation |  mm\n",
    "\n",
    "\n",
    "2.   Soil-water content in each soil compartment\n",
    "\n",
    "Variable Name | Unit\n",
    "--- | --- \n",
    "compartment water content | mm/mm\n",
    "\n",
    "3.   Crop growth\n",
    "\n",
    "Variable Name | Unit\n",
    "--- | --- \n",
    "growing degree days | -\n",
    "cumulative growing degree days | -\n",
    "root depth | m\n",
    "canopy cover |  -\n",
    "canopy cover (no stress) | -\n",
    "biomass | kg/ha\n",
    "biomass (no stress) | kg/ha\n",
    "harvest index | -\n",
    "adjusted harvest index | -\n",
    "yield | t/ha\n",
    "\n",
    "4.   Final summary (seasonal total)\n",
    "\n",
    "Variable Name | Unit\n",
    "--- | --- \n",
    "yield | t/ha\n",
    "total irrigation | mm\n",
    "\n"
   ]
  },
  {
   "cell_type": "markdown",
   "metadata": {
    "id": "V7hvxkEgxbFI"
   },
   "source": [
    "Use the `.head(N)` command to view the first N entries of the output files below"
   ]
  },
  {
   "cell_type": "code",
   "execution_count": 29,
   "metadata": {
    "colab": {
     "base_uri": "https://localhost:8080/",
     "height": 204
    },
    "id": "5s4izYgoxQqi",
    "outputId": "aeb12ac9-9f93-4bab-82cc-5acd26b209a6"
   },
   "outputs": [
    {
     "data": {
      "text/html": [
       "<div>\n",
       "<style scoped>\n",
       "    .dataframe tbody tr th:only-of-type {\n",
       "        vertical-align: middle;\n",
       "    }\n",
       "\n",
       "    .dataframe tbody tr th {\n",
       "        vertical-align: top;\n",
       "    }\n",
       "\n",
       "    .dataframe thead th {\n",
       "        text-align: right;\n",
       "    }\n",
       "</style>\n",
       "<table border=\"1\" class=\"dataframe\">\n",
       "  <thead>\n",
       "    <tr style=\"text-align: right;\">\n",
       "      <th></th>\n",
       "      <th>Season</th>\n",
       "      <th>crop Type</th>\n",
       "      <th>Harvest Date (YYYY/MM/DD)</th>\n",
       "      <th>Harvest Date (Step)</th>\n",
       "      <th>Yield (tonne/ha)</th>\n",
       "      <th>Seasonal irrigation (mm)</th>\n",
       "    </tr>\n",
       "  </thead>\n",
       "  <tbody>\n",
       "    <tr>\n",
       "      <th>0</th>\n",
       "      <td>0</td>\n",
       "      <td>Wheat</td>\n",
       "      <td>1980-04-15</td>\n",
       "      <td>196</td>\n",
       "      <td>8.940140</td>\n",
       "      <td>0</td>\n",
       "    </tr>\n",
       "    <tr>\n",
       "      <th>1</th>\n",
       "      <td>1</td>\n",
       "      <td>Wheat</td>\n",
       "      <td>1981-04-16</td>\n",
       "      <td>562</td>\n",
       "      <td>8.310045</td>\n",
       "      <td>0</td>\n",
       "    </tr>\n",
       "    <tr>\n",
       "      <th>2</th>\n",
       "      <td>2</td>\n",
       "      <td>Wheat</td>\n",
       "      <td>1982-04-16</td>\n",
       "      <td>927</td>\n",
       "      <td>9.136122</td>\n",
       "      <td>0</td>\n",
       "    </tr>\n",
       "    <tr>\n",
       "      <th>3</th>\n",
       "      <td>3</td>\n",
       "      <td>Wheat</td>\n",
       "      <td>1983-04-16</td>\n",
       "      <td>1292</td>\n",
       "      <td>8.811568</td>\n",
       "      <td>0</td>\n",
       "    </tr>\n",
       "    <tr>\n",
       "      <th>4</th>\n",
       "      <td>4</td>\n",
       "      <td>Wheat</td>\n",
       "      <td>1984-04-15</td>\n",
       "      <td>1657</td>\n",
       "      <td>8.682660</td>\n",
       "      <td>0</td>\n",
       "    </tr>\n",
       "  </tbody>\n",
       "</table>\n",
       "</div>"
      ],
      "text/plain": [
       "   Season crop Type Harvest Date (YYYY/MM/DD)  Harvest Date (Step)  \\\n",
       "0       0     Wheat                1980-04-15                  196   \n",
       "1       1     Wheat                1981-04-16                  562   \n",
       "2       2     Wheat                1982-04-16                  927   \n",
       "3       3     Wheat                1983-04-16                 1292   \n",
       "4       4     Wheat                1984-04-15                 1657   \n",
       "\n",
       "   Yield (tonne/ha)  Seasonal irrigation (mm)  \n",
       "0          8.940140                         0  \n",
       "1          8.310045                         0  \n",
       "2          9.136122                         0  \n",
       "3          8.811568                         0  \n",
       "4          8.682660                         0  "
      ]
     },
     "execution_count": 29,
     "metadata": {},
     "output_type": "execute_result"
    }
   ],
   "source": [
    "# model._outputs.water_flux.head()\n",
    "# model._outputs.water_storage.head()\n",
    "# model._outputs.crop_growth.head()\n",
    "model._outputs.final_stats.head()"
   ]
  },
  {
   "cell_type": "code",
   "execution_count": null,
   "metadata": {
    "id": "I9Xt1kRUfTAr"
   },
   "outputs": [],
   "source": []
  },
  {
   "cell_type": "code",
   "execution_count": null,
   "metadata": {},
   "outputs": [],
   "source": []
  }
 ],
 "metadata": {
  "colab": {
   "collapsed_sections": [],
   "name": "AquaCrop-OSPy: Notebook 1.ipynb",
   "provenance": []
  },
  "interpreter": {
   "hash": "f3b7431a1b6beb28d740864beb68f896191e4e35465b454c094981778dcd0ac4"
  },
  "kernelspec": {
   "display_name": "actom",
   "language": "python",
   "name": "actom"
  },
  "language_info": {
   "codemirror_mode": {
    "name": "ipython",
    "version": 3
   },
   "file_extension": ".py",
   "mimetype": "text/x-python",
   "name": "python",
   "nbconvert_exporter": "python",
   "pygments_lexer": "ipython3",
   "version": "3.8.10"
  }
 },
 "nbformat": 4,
 "nbformat_minor": 4
}

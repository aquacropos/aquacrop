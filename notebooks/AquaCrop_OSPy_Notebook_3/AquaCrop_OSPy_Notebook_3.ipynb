{
 "cells": [
  {
   "cell_type": "markdown",
   "metadata": {
    "id": "F46q9WuSNxCZ"
   },
   "source": [
    "# AquaCrop-OSPy: Bridging the gap between research and practice in crop-water modelling\n"
   ]
  },
  {
   "cell_type": "markdown",
   "metadata": {
    "id": "qrRbaHsji3A-"
   },
   "source": [
    "This series of notebooks provides users with an introduction to AquaCrop-OSPy, an open-source Python implementation of the U.N. Food and Agriculture Organization (FAO) AquaCrop model. AquaCrop-OSPy is accompanied by a series of Jupyter notebooks, which guide users interactively through a range of common applications of the model. Only basic Python experience is required, and the notebooks can easily be extended and adapted by users for their own applications and needs."
   ]
  },
  {
   "cell_type": "markdown",
   "metadata": {
    "id": "06mipdLvNxDM"
   },
   "source": [
    "# Notebook 3: Developing and optimizing irrigation stratgeies "
   ]
  },
  {
   "cell_type": "markdown",
   "metadata": {
    "id": "UtTYfAETdnap"
   },
   "source": [
    "In the previous notebook, we looked at how to simulate yields and water use for different pre-specified irrigation management practices or rules. However, what if you wanted to know which strategy would give you the maximum yield for a given amount of irrigation water use? In this notebook, we look at how optimal irrigation schedules can be identified by linking AquaCrop-OSPy with one of the many optimization modules in available in the python ecosystem.\n",
    "\n",
    "Our specific example focuses on optimizing soil-moisture thresholds which are commonly used both in practice and literature on optimizing irrigation decisions. During the growing season, if the soil-moisture content drops below the threshold, irrigation is applied to refill the soil profile back to field capacity subject to a maximum irrigation depth. AquaCrop-OSPy allows you to define four thresholds corresponding to four main growing periods (emergence, canopy growth, max canopy and senescence). Changing the threshold depending on crop growth stage reflects the fact that crop water requirements and drought stress responses vary over the course of the season. \n",
    "\n",
    "Using the optimization library `scipy.optimize` we will find sets of soil-moisture thresholds that maximize yields for a Maize crop located in Champion Nebraska. The optimization will be repeated for different water supply constraints (maximum amount of water that can be applied in a given season). The simulation will take place over 3 years (2016-2018)."
   ]
  },
  {
   "cell_type": "markdown",
   "metadata": {
    "id": "wRrE1XpNEDzd"
   },
   "source": [
    "Import and install AquaCrop-OSPy"
   ]
  },
  {
   "cell_type": "code",
   "execution_count": 1,
   "metadata": {
    "id": "YeE-XYevED-d",
    "tags": []
   },
   "outputs": [],
   "source": [
    "# !pip install aquacrop\n",
    "\n",
    "# from google.colab import output\n",
    "# output.clear()"
   ]
  },
  {
   "cell_type": "markdown",
   "metadata": {},
   "source": [
    "If for any reason you would rather not compile the aquacrop modules ahead-of-time, you can run the following cell to run the notebook in pure python (N.B. it will run slower)."
   ]
  },
  {
   "cell_type": "code",
   "execution_count": null,
   "metadata": {},
   "outputs": [],
   "source": [
    "# import os\n",
    "# os.environ['DEVELOPMENT'] = 'True'"
   ]
  },
  {
   "cell_type": "code",
   "execution_count": 2,
   "metadata": {},
   "outputs": [],
   "source": [
    "from aquacrop import AquaCropModel, Soil, Crop, InitialWaterContent, IrrigationManagement\n",
    "from aquacrop.utils import prepare_weather, get_filepath\n",
    "\n",
    "import numpy as np\n",
    "import matplotlib.pyplot as plt\n",
    "from scipy.optimize import fmin"
   ]
  },
  {
   "cell_type": "code",
   "execution_count": 3,
   "metadata": {
    "id": "pTbK0IL2FTX0"
   },
   "outputs": [],
   "source": [
    "path = get_filepath('champion_climate.txt')\n",
    "wdf = prepare_weather(path)"
   ]
  },
  {
   "cell_type": "markdown",
   "metadata": {
    "id": "SEHCszsGOs0V"
   },
   "source": [
    "Define a function called `run_model` that creates and runs an AquaCrop model (just like in the previous notebooks), and returns the final output."
   ]
  },
  {
   "cell_type": "code",
   "execution_count": 4,
   "metadata": {
    "id": "4iZrXVK31BHQ"
   },
   "outputs": [],
   "source": [
    "def run_model(smts,max_irr_season,year1,year2):\n",
    "    \"\"\"\n",
    "    funciton to run model and return results for given set of soil moisture targets\n",
    "    \"\"\"\n",
    "\n",
    "    maize = Crop('Maize',planting_date='05/01') # define crop\n",
    "    loam = Soil('ClayLoam') # define soil\n",
    "    init_wc = InitialWaterContent(wc_type='Pct',value=[70]) # define initial soil water conditions\n",
    "\n",
    "    irrmngt = IrrigationManagement(irrigation_method=1,SMT=smts,MaxIrrSeason=max_irr_season) # define irrigation management\n",
    "\n",
    "    # create and run model\n",
    "    model = AquaCropModel(f'{year1}/05/01',f'{year2}/10/31',wdf,loam,maize,\n",
    "                          irrigation_management=irrmngt,initial_water_content=init_wc)\n",
    "\n",
    "    model.run_model(till_termination=True)\n",
    "    return model.get_simulation_results()\n"
   ]
  },
  {
   "cell_type": "code",
   "execution_count": 5,
   "metadata": {
    "colab": {
     "base_uri": "https://localhost:8080/",
     "height": 80
    },
    "id": "IvQmxGZjFEX0",
    "outputId": "89d46f21-91fe-4d77-c6ff-e11c4426fcef"
   },
   "outputs": [
    {
     "data": {
      "text/html": [
       "<div>\n",
       "<style scoped>\n",
       "    .dataframe tbody tr th:only-of-type {\n",
       "        vertical-align: middle;\n",
       "    }\n",
       "\n",
       "    .dataframe tbody tr th {\n",
       "        vertical-align: top;\n",
       "    }\n",
       "\n",
       "    .dataframe thead th {\n",
       "        text-align: right;\n",
       "    }\n",
       "</style>\n",
       "<table border=\"1\" class=\"dataframe\">\n",
       "  <thead>\n",
       "    <tr style=\"text-align: right;\">\n",
       "      <th></th>\n",
       "      <th>Season</th>\n",
       "      <th>crop Type</th>\n",
       "      <th>Harvest Date (YYYY/MM/DD)</th>\n",
       "      <th>Harvest Date (Step)</th>\n",
       "      <th>Yield (tonne/ha)</th>\n",
       "      <th>Seasonal irrigation (mm)</th>\n",
       "    </tr>\n",
       "  </thead>\n",
       "  <tbody>\n",
       "    <tr>\n",
       "      <th>0</th>\n",
       "      <td>0</td>\n",
       "      <td>Maize</td>\n",
       "      <td>2018-09-10</td>\n",
       "      <td>131</td>\n",
       "      <td>14.298679</td>\n",
       "      <td>300.0</td>\n",
       "    </tr>\n",
       "  </tbody>\n",
       "</table>\n",
       "</div>"
      ],
      "text/plain": [
       "   Season crop Type Harvest Date (YYYY/MM/DD)  Harvest Date (Step)  \\\n",
       "0       0     Maize                2018-09-10                  131   \n",
       "\n",
       "   Yield (tonne/ha)  Seasonal irrigation (mm)  \n",
       "0         14.298679                     300.0  "
      ]
     },
     "execution_count": 5,
     "metadata": {},
     "output_type": "execute_result"
    }
   ],
   "source": [
    "run_model([70]*4,300,2018,2018)"
   ]
  },
  {
   "cell_type": "markdown",
   "metadata": {
    "id": "cJRQ_AK71BlK"
   },
   "source": [
    "Define `evaluate` will act as a reward function for the optimization library to optimize. Inside this function we run the model and return the reward (in this case the average yield).\n"
   ]
  },
  {
   "cell_type": "code",
   "execution_count": 6,
   "metadata": {
    "id": "jqDhsQX81Bvx"
   },
   "outputs": [],
   "source": [
    "import numpy as np # import numpy library\n",
    "\n",
    "def evaluate(smts,max_irr_season,test=False):\n",
    "    \"\"\"\n",
    "    funciton to run model and calculate reward (yield) for given set of soil moisture targets\n",
    "    \"\"\"\n",
    "    # run model\n",
    "    out = run_model(smts,max_irr_season,year1=2016,year2=2018)\n",
    "    # get yields and total irrigation\n",
    "    yld = out['Yield (tonne/ha)'].mean()\n",
    "    tirr = out['Seasonal irrigation (mm)'].mean()\n",
    "\n",
    "    reward=yld\n",
    "\n",
    "    # return either the negative reward (for the optimization)\n",
    "    # or the yield and total irrigation (for analysis)\n",
    "    if test:\n",
    "        return yld,tirr,reward\n",
    "    else:\n",
    "        return -reward\n"
   ]
  },
  {
   "cell_type": "code",
   "execution_count": 7,
   "metadata": {
    "colab": {
     "base_uri": "https://localhost:8080/"
    },
    "id": "qjd3YYIEnbCQ",
    "outputId": "44fc0b87-82bc-4ade-dcc1-e040852b7fc0"
   },
   "outputs": [
    {
     "data": {
      "text/plain": [
       "-14.14377270193747"
      ]
     },
     "execution_count": 7,
     "metadata": {},
     "output_type": "execute_result"
    }
   ],
   "source": [
    "evaluate([70]*4,300)"
   ]
  },
  {
   "cell_type": "markdown",
   "metadata": {
    "id": "5MHlW3OU1B5Y"
   },
   "source": [
    "Define `get_starting_point` that chooses a set of random irrigation strategies and evaluates them to give us a good starting point for our optimization. (Since we are only using a local minimization function this will help get a good result)"
   ]
  },
  {
   "cell_type": "code",
   "execution_count": 8,
   "metadata": {
    "id": "2vmaxOt51CCJ"
   },
   "outputs": [],
   "source": [
    "def get_starting_point(num_smts,max_irr_season,num_searches):\n",
    "    \"\"\"\n",
    "    find good starting threshold(s) for optimization\n",
    "    \"\"\"\n",
    "\n",
    "    # get random SMT's\n",
    "    x0list = np.random.rand(num_searches,num_smts)*100\n",
    "    rlist=[]\n",
    "    # evaluate random SMT's\n",
    "    for xtest in x0list:\n",
    "        r = evaluate(xtest,max_irr_season,)\n",
    "        rlist.append(r)\n",
    "\n",
    "    # save best SMT\n",
    "    x0=x0list[np.argmin(rlist)]\n",
    "    \n",
    "    return x0"
   ]
  },
  {
   "cell_type": "code",
   "execution_count": 9,
   "metadata": {
    "colab": {
     "base_uri": "https://localhost:8080/"
    },
    "id": "5n0uXS69oSht",
    "outputId": "8114ce0d-aa0a-4380-d1f5-36adf083bb63"
   },
   "outputs": [
    {
     "data": {
      "text/plain": [
       "array([59.91075266, 82.0856109 , 76.00348259, 84.25790193])"
      ]
     },
     "execution_count": 9,
     "metadata": {},
     "output_type": "execute_result"
    }
   ],
   "source": [
    "get_starting_point(4,300,10)"
   ]
  },
  {
   "cell_type": "markdown",
   "metadata": {
    "id": "7jiBcJX21CLq"
   },
   "source": [
    "Define `optimize` that uses the `scipy.optimize.fmin` optimization package to find yield maximizing irrigation strategies for a maximum seasonal irrigation limit. \n"
   ]
  },
  {
   "cell_type": "code",
   "execution_count": 10,
   "metadata": {
    "id": "-DWJXZky09hD"
   },
   "outputs": [],
   "source": [
    "def optimize(num_smts,max_irr_season,num_searches=100):\n",
    "    \"\"\" \n",
    "    optimize thresholds to be profit maximising\n",
    "    \"\"\"\n",
    "    # get starting optimization strategy\n",
    "    x0=get_starting_point(num_smts,max_irr_season,num_searches)\n",
    "    # run optimization\n",
    "    res = fmin(evaluate, x0,disp=0,args=(max_irr_season,))\n",
    "    # reshape array\n",
    "    smts= res.squeeze()\n",
    "    # evaluate optimal strategy\n",
    "    return smts"
   ]
  },
  {
   "cell_type": "code",
   "execution_count": 11,
   "metadata": {
    "id": "BJzmQJRiJgBi"
   },
   "outputs": [],
   "source": [
    "smts=optimize(4,300)"
   ]
  },
  {
   "cell_type": "code",
   "execution_count": 12,
   "metadata": {
    "colab": {
     "base_uri": "https://localhost:8080/"
    },
    "id": "lqO0byzyMdzs",
    "outputId": "77716d13-0cb0-4ad8-a0aa-e87126864189"
   },
   "outputs": [
    {
     "data": {
      "text/plain": [
       "(14.217296560597573, 283.3333333333333, 14.217296560597573)"
      ]
     },
     "execution_count": 12,
     "metadata": {},
     "output_type": "execute_result"
    }
   ],
   "source": [
    "evaluate(smts,300,True)"
   ]
  },
  {
   "cell_type": "markdown",
   "metadata": {
    "id": "iv43bK1rPSPj"
   },
   "source": [
    "For a range of maximum seasonal irrigation limits (0-450mm), find the yield maximizing irrigation schedule."
   ]
  },
  {
   "cell_type": "code",
   "execution_count": 1,
   "metadata": {
    "colab": {
     "base_uri": "https://localhost:8080/",
     "height": 67,
     "referenced_widgets": []
    },
    "id": "inrpfwj2NxDS",
    "outputId": "a94b556f-c02b-44f9-adcf-e3c12dec1a63"
   },
   "outputs": [
    {
     "ename": "ImportError",
     "evalue": "IProgress not found. Please update jupyter and ipywidgets. See https://ipywidgets.readthedocs.io/en/stable/user_install.html",
     "output_type": "error",
     "traceback": [
      "\u001b[1;31m---------------------------------------------------------------------------\u001b[0m",
      "\u001b[1;31mImportError\u001b[0m                               Traceback (most recent call last)",
      "\u001b[1;32mc:\\Users\\s10034cb\\Dropbox (The University of Manchester)\\Manchester Postdoc\\aquacrop\\docs\\notebooks\\AquaCrop_OSPy_Notebook_3.ipynb Cell 23\u001b[0m line \u001b[0;36m6\n\u001b[0;32m      <a href='vscode-notebook-cell:/c%3A/Users/s10034cb/Dropbox%20%28The%20University%20of%20Manchester%29/Manchester%20Postdoc/aquacrop/docs/notebooks/AquaCrop_OSPy_Notebook_3.ipynb#X31sZmlsZQ%3D%3D?line=3'>4</a>\u001b[0m yld_list\u001b[39m=\u001b[39m[]\n\u001b[0;32m      <a href='vscode-notebook-cell:/c%3A/Users/s10034cb/Dropbox%20%28The%20University%20of%20Manchester%29/Manchester%20Postdoc/aquacrop/docs/notebooks/AquaCrop_OSPy_Notebook_3.ipynb#X31sZmlsZQ%3D%3D?line=4'>5</a>\u001b[0m tirr_list\u001b[39m=\u001b[39m[]\n\u001b[1;32m----> <a href='vscode-notebook-cell:/c%3A/Users/s10034cb/Dropbox%20%28The%20University%20of%20Manchester%29/Manchester%20Postdoc/aquacrop/docs/notebooks/AquaCrop_OSPy_Notebook_3.ipynb#X31sZmlsZQ%3D%3D?line=5'>6</a>\u001b[0m \u001b[39mfor\u001b[39;00m max_irr \u001b[39min\u001b[39;00m tqdm(\u001b[39mrange\u001b[39;49m(\u001b[39m0\u001b[39;49m,\u001b[39m500\u001b[39;49m,\u001b[39m50\u001b[39;49m)):\n\u001b[0;32m      <a href='vscode-notebook-cell:/c%3A/Users/s10034cb/Dropbox%20%28The%20University%20of%20Manchester%29/Manchester%20Postdoc/aquacrop/docs/notebooks/AquaCrop_OSPy_Notebook_3.ipynb#X31sZmlsZQ%3D%3D?line=6'>7</a>\u001b[0m     \n\u001b[0;32m      <a href='vscode-notebook-cell:/c%3A/Users/s10034cb/Dropbox%20%28The%20University%20of%20Manchester%29/Manchester%20Postdoc/aquacrop/docs/notebooks/AquaCrop_OSPy_Notebook_3.ipynb#X31sZmlsZQ%3D%3D?line=7'>8</a>\u001b[0m \n\u001b[0;32m      <a href='vscode-notebook-cell:/c%3A/Users/s10034cb/Dropbox%20%28The%20University%20of%20Manchester%29/Manchester%20Postdoc/aquacrop/docs/notebooks/AquaCrop_OSPy_Notebook_3.ipynb#X31sZmlsZQ%3D%3D?line=8'>9</a>\u001b[0m     \u001b[39m# find optimal thresholds and save to list\u001b[39;00m\n\u001b[0;32m     <a href='vscode-notebook-cell:/c%3A/Users/s10034cb/Dropbox%20%28The%20University%20of%20Manchester%29/Manchester%20Postdoc/aquacrop/docs/notebooks/AquaCrop_OSPy_Notebook_3.ipynb#X31sZmlsZQ%3D%3D?line=9'>10</a>\u001b[0m     smts\u001b[39m=\u001b[39moptimize(\u001b[39m4\u001b[39m,max_irr)\n\u001b[0;32m     <a href='vscode-notebook-cell:/c%3A/Users/s10034cb/Dropbox%20%28The%20University%20of%20Manchester%29/Manchester%20Postdoc/aquacrop/docs/notebooks/AquaCrop_OSPy_Notebook_3.ipynb#X31sZmlsZQ%3D%3D?line=10'>11</a>\u001b[0m     opt_smts\u001b[39m.\u001b[39mappend(smts)\n",
      "File \u001b[1;32mc:\\Users\\s10034cb\\AppData\\Local\\anaconda3\\envs\\aquacrop\\lib\\site-packages\\tqdm\\notebook.py:233\u001b[0m, in \u001b[0;36mtqdm_notebook.__init__\u001b[1;34m(self, *args, **kwargs)\u001b[0m\n\u001b[0;32m    231\u001b[0m unit_scale \u001b[39m=\u001b[39m \u001b[39m1\u001b[39m \u001b[39mif\u001b[39;00m \u001b[39mself\u001b[39m\u001b[39m.\u001b[39munit_scale \u001b[39mis\u001b[39;00m \u001b[39mTrue\u001b[39;00m \u001b[39melse\u001b[39;00m \u001b[39mself\u001b[39m\u001b[39m.\u001b[39munit_scale \u001b[39mor\u001b[39;00m \u001b[39m1\u001b[39m\n\u001b[0;32m    232\u001b[0m total \u001b[39m=\u001b[39m \u001b[39mself\u001b[39m\u001b[39m.\u001b[39mtotal \u001b[39m*\u001b[39m unit_scale \u001b[39mif\u001b[39;00m \u001b[39mself\u001b[39m\u001b[39m.\u001b[39mtotal \u001b[39melse\u001b[39;00m \u001b[39mself\u001b[39m\u001b[39m.\u001b[39mtotal\n\u001b[1;32m--> 233\u001b[0m \u001b[39mself\u001b[39m\u001b[39m.\u001b[39mcontainer \u001b[39m=\u001b[39m \u001b[39mself\u001b[39;49m\u001b[39m.\u001b[39;49mstatus_printer(\u001b[39mself\u001b[39;49m\u001b[39m.\u001b[39;49mfp, total, \u001b[39mself\u001b[39;49m\u001b[39m.\u001b[39;49mdesc, \u001b[39mself\u001b[39;49m\u001b[39m.\u001b[39;49mncols)\n\u001b[0;32m    234\u001b[0m \u001b[39mself\u001b[39m\u001b[39m.\u001b[39mcontainer\u001b[39m.\u001b[39mpbar \u001b[39m=\u001b[39m proxy(\u001b[39mself\u001b[39m)\n\u001b[0;32m    235\u001b[0m \u001b[39mself\u001b[39m\u001b[39m.\u001b[39mdisplayed \u001b[39m=\u001b[39m \u001b[39mFalse\u001b[39;00m\n",
      "File \u001b[1;32mc:\\Users\\s10034cb\\AppData\\Local\\anaconda3\\envs\\aquacrop\\lib\\site-packages\\tqdm\\notebook.py:108\u001b[0m, in \u001b[0;36mtqdm_notebook.status_printer\u001b[1;34m(_, total, desc, ncols)\u001b[0m\n\u001b[0;32m     99\u001b[0m \u001b[39m# Fallback to text bar if there's no total\u001b[39;00m\n\u001b[0;32m    100\u001b[0m \u001b[39m# DEPRECATED: replaced with an 'info' style bar\u001b[39;00m\n\u001b[0;32m    101\u001b[0m \u001b[39m# if not total:\u001b[39;00m\n\u001b[1;32m   (...)\u001b[0m\n\u001b[0;32m    105\u001b[0m \n\u001b[0;32m    106\u001b[0m \u001b[39m# Prepare IPython progress bar\u001b[39;00m\n\u001b[0;32m    107\u001b[0m \u001b[39mif\u001b[39;00m IProgress \u001b[39mis\u001b[39;00m \u001b[39mNone\u001b[39;00m:  \u001b[39m# #187 #451 #558 #872\u001b[39;00m\n\u001b[1;32m--> 108\u001b[0m     \u001b[39mraise\u001b[39;00m \u001b[39mImportError\u001b[39;00m(WARN_NOIPYW)\n\u001b[0;32m    109\u001b[0m \u001b[39mif\u001b[39;00m total:\n\u001b[0;32m    110\u001b[0m     pbar \u001b[39m=\u001b[39m IProgress(\u001b[39mmin\u001b[39m\u001b[39m=\u001b[39m\u001b[39m0\u001b[39m, \u001b[39mmax\u001b[39m\u001b[39m=\u001b[39mtotal)\n",
      "\u001b[1;31mImportError\u001b[0m: IProgress not found. Please update jupyter and ipywidgets. See https://ipywidgets.readthedocs.io/en/stable/user_install.html"
     ]
    }
   ],
   "source": [
    "from tqdm.autonotebook import tqdm # progress bar\n",
    "\n",
    "opt_smts=[]\n",
    "yld_list=[]\n",
    "tirr_list=[]\n",
    "for max_irr in tqdm(range(0,500,50)):\n",
    "    \n",
    "\n",
    "    # find optimal thresholds and save to list\n",
    "    smts=optimize(4,max_irr)\n",
    "    opt_smts.append(smts)\n",
    "\n",
    "    # save the optimal yield and total irrigation\n",
    "    yld,tirr,_=evaluate(smts,max_irr,True)\n",
    "    yld_list.append(yld)\n",
    "    tirr_list.append(tirr)"
   ]
  },
  {
   "cell_type": "markdown",
   "metadata": {
    "id": "Lw0iPcZ6pSKl"
   },
   "source": [
    "Visualize the optimal yield and total irrigation, creating a crop-water production function."
   ]
  },
  {
   "cell_type": "code",
   "execution_count": 14,
   "metadata": {
    "colab": {
     "base_uri": "https://localhost:8080/",
     "height": 505
    },
    "id": "8uXbVnWGQDuI",
    "outputId": "9edeac35-9715-4031-8e92-b71cdd752215"
   },
   "outputs": [
    {
     "data": {
      "image/png": "[encoded data removed]",
      "text/plain": [
       "<Figure size 936x576 with 1 Axes>"
      ]
     },
     "metadata": {
      "needs_background": "light"
     },
     "output_type": "display_data"
    }
   ],
   "source": [
    "# create plot\n",
    "fig,ax=plt.subplots(1,1,figsize=(13,8))\n",
    "\n",
    "# plot results\n",
    "ax.scatter(tirr_list,yld_list)\n",
    "ax.plot(tirr_list,yld_list)\n",
    "\n",
    "# labels\n",
    "ax.set_xlabel('Total Irrigation (ha-mm)',fontsize=18)\n",
    "ax.set_ylabel('Yield (tonne/ha)',fontsize=18)\n",
    "ax.set_xlim([-20,600])\n",
    "ax.set_ylim([2,15.5])\n",
    "\n",
    "# annotate with optimal thresholds\n",
    "bbox = dict(boxstyle=\"round\",fc=\"1\")\n",
    "offset = [15,15,15, 15,15,-125,-100,  -5, 10,10]\n",
    "yoffset= [0,-5,-10,-15, -15,  0,  10,15, -20,10]\n",
    "for i,smt in enumerate(opt_smts):\n",
    "    smt=smt.clip(0,100)\n",
    "    ax.annotate('(%.0f, %.0f, %.0f, %.0f)'%(smt[0],smt[1],smt[2],smt[3]),\n",
    "                (tirr_list[i], yld_list[i]), xytext=(offset[i], yoffset[i]), textcoords='offset points',\n",
    "                bbox=bbox,fontsize=12)\n",
    "\n"
   ]
  },
  {
   "cell_type": "markdown",
   "metadata": {
    "id": "PSge4VgJycbo"
   },
   "source": [
    "Note that fmin is a local optimizer and so optimal soil-moisture thresholds will vary over multiple repetitions"
   ]
  },
  {
   "cell_type": "markdown",
   "metadata": {
    "id": "HnEU_KRsNzRF"
   },
   "source": [
    "# Appendix: Parrallel\n",
    "\n",
    "Can also speed things up with a parallel approach. Though for Colab notebooks there are only 2 CPUs so we are not expecting a massive speed up. But this kind of approach can be useful when more CPUs are available either locally or in cloud computing infestructure. "
   ]
  },
  {
   "cell_type": "code",
   "execution_count": 15,
   "metadata": {
    "id": "FYCXPP0tRUUE"
   },
   "outputs": [],
   "source": [
    "# import multiprocessing library\n",
    "from multiprocessing import Pool\n",
    "\n",
    "# time library so we can check the speed up\n",
    "from time import time\n",
    "\n",
    "# define funciton to parallelize\n",
    "def func(max_irr):\n",
    "\n",
    "    # find optimal smts\n",
    "    smts=optimize(4,max_irr)\n",
    "\n",
    "    # return the optimal yield, total irrigaiton and thresholds\n",
    "    yld,tirr,_=evaluate(smts,max_irr,True)\n",
    "    print(f\"finished max_irr = {max_irr} at {round(time()-start)} seconds\")\n",
    "    return yld,tirr,smts\n"
   ]
  },
  {
   "cell_type": "markdown",
   "metadata": {
    "id": "v8DTCUkEqVtV"
   },
   "source": [
    "Multi processing in python can be done using the `Pool` object. The code below create a `Pool` object, passing in the number of CPU cores that you want to parallelize over. Then use `p.map` to evaluate the function `func` for each input given in the list. "
   ]
  },
  {
   "cell_type": "code",
   "execution_count": 16,
   "metadata": {
    "id": "IKoSrvxvqU5y"
   },
   "outputs": [
    {
     "name": "stdout",
     "output_type": "stream",
     "text": [
      "finished max_irr = 0 at 22 seconds\n",
      "finished max_irr = 50 at 25 seconds\n",
      "finished max_irr = 150 at 26 seconds\n",
      "finished max_irr = 350 at 27 seconds\n",
      "finished max_irr = 100 at 27 seconds\n",
      "finished max_irr = 250 at 28 seconds\n",
      "finished max_irr = 200 at 28 seconds\n",
      "finished max_irr = 300 at 30 seconds\n",
      "finished max_irr = 400 at 48 seconds\n",
      "finished max_irr = 450 at 51 seconds\n"
     ]
    }
   ],
   "source": [
    "start = time() # save start time \n",
    "with Pool(8) as p:\n",
    "    results = p.map(func, list(range(0,500,50)))"
   ]
  },
  {
   "cell_type": "markdown",
   "metadata": {
    "id": "YjfhsnSlX8jI"
   },
   "source": [
    "This approach in Colab does not give us a massive speed up, however this approach can be a big help if more CPU cores are available. Combine results for visualization."
   ]
  },
  {
   "cell_type": "code",
   "execution_count": 17,
   "metadata": {
    "id": "vwmEZ8x7ULTu"
   },
   "outputs": [],
   "source": [
    "parr_opt_smts=[]\n",
    "parr_yld_list=[]\n",
    "parr_tirr_list=[]\n",
    "for i in range(len(results)):\n",
    "    parr_yld_list.append(results[i][0])\n",
    "    parr_tirr_list.append(results[i][1])\n",
    "    parr_opt_smts.append(results[i][2])"
   ]
  },
  {
   "cell_type": "markdown",
   "metadata": {
    "id": "EY5oJJiGsBkT"
   },
   "source": [
    "Plot crop-water production function."
   ]
  },
  {
   "cell_type": "code",
   "execution_count": 18,
   "metadata": {
    "id": "tO3ec6bYUr98"
   },
   "outputs": [
    {
     "data": {
      "text/plain": [
       "Text(0, 0.5, 'Yield (tonne/ha)')"
      ]
     },
     "execution_count": 18,
     "metadata": {},
     "output_type": "execute_result"
    },
    {
     "data": {
      "image/png": "[encoded data removed]",
      "text/plain": [
       "<Figure size 720x504 with 1 Axes>"
      ]
     },
     "metadata": {
      "needs_background": "light"
     },
     "output_type": "display_data"
    }
   ],
   "source": [
    "fig,ax=plt.subplots(1,1,figsize=(10,7))\n",
    "\n",
    "ax.scatter(parr_tirr_list,parr_yld_list)\n",
    "ax.plot(parr_tirr_list,parr_yld_list)\n",
    "\n",
    "ax.set_xlabel('Total Irrigation (ha-mm)')\n",
    "ax.set_ylabel('Yield (tonne/ha)',fontsize=18)"
   ]
  }
 ],
 "metadata": {
  "kernelspec": {
   "display_name": "aquacrop",
   "language": "python",
   "name": "python3"
  },
  "language_info": {
   "codemirror_mode": {
    "name": "ipython",
    "version": 3
   },
   "file_extension": ".py",
   "mimetype": "text/x-python",
   "name": "python",
   "nbconvert_exporter": "python",
   "pygments_lexer": "ipython3",
   "version": "3.9.17"
  },
  "orig_nbformat": 4
 },
 "nbformat": 4,
 "nbformat_minor": 2
}
